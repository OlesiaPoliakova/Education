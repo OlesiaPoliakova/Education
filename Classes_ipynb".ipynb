{
  "nbformat": 4,
  "nbformat_minor": 0,
  "metadata": {
    "colab": {
      "name": "Classes.ipynb\"",
      "private_outputs": true,
      "provenance": [],
      "collapsed_sections": [],
      "include_colab_link": true
    },
    "kernelspec": {
      "name": "python3",
      "display_name": "Python 3"
    }
  },
  "cells": [
    {
      "cell_type": "markdown",
      "metadata": {
        "id": "view-in-github",
        "colab_type": "text"
      },
      "source": [
        "<a href=\"https://colab.research.google.com/github/OlesiaPoliakova/Education/blob/main/Classes_ipynb%22.ipynb\" target=\"_parent\"><img src=\"https://colab.research.google.com/assets/colab-badge.svg\" alt=\"Open In Colab\"/></a>"
      ]
    },
    {
      "cell_type": "markdown",
      "metadata": {
        "id": "WX-banFs8rCS"
      },
      "source": [
        " # ![alt text](https://upload.wikimedia.org/wikipedia/commons/c/c3/Python-logo-notext.svg)      PYTHON BASICS"
      ]
    },
    {
      "cell_type": "markdown",
      "metadata": {
        "id": "1_a3UKGA8zn4"
      },
      "source": [
        "## ![plato](http://www.iwise.com/authorIcons/1047/_Plato_128x128.png) CLASS AND OBJECT"
      ]
    },
    {
      "cell_type": "markdown",
      "metadata": {
        "id": "hP9z2PqO9suH"
      },
      "source": [
        "### Simple Class with static attributes and instance methods"
      ]
    },
    {
      "cell_type": "markdown",
      "metadata": {
        "id": "V0e5AAB5-DtZ"
      },
      "source": [
        "\n",
        "Let's describe an **idea of poney**. In *Python* it should look like **class**.<br>\n",
        "So, describing a *class*."
      ]
    },
    {
      "cell_type": "code",
      "metadata": {
        "id": "XXql4YBr7ZbN"
      },
      "source": [
        "class Poney:\n",
        "  \n",
        "  # STATIC ATTRIBUTES\n",
        "  head = 1\n",
        "  pawns = 4\n",
        "  mane = 1\n",
        "  eyes = 2\n",
        "  tail = 1\n",
        "  corn = 1\n",
        "  \n",
        "  # INSTANCE METHODS\n",
        "  def run(self):\n",
        "    print(f\"I'm running with all my {self.pawns} pawns!\")\n",
        "   \n",
        "  def stop(self):\n",
        "    print(f\"Tprrrrrrrrrrrrr! Stopping!\")\n",
        "  \n",
        "  def look(self):\n",
        "    print(f\"I'm seeing with all my {self.eyes} eyes\")\n",
        "  \n",
        "  def say(self, phrase: str):\n",
        "    print(f\"Poney says: {phrase}\")\n",
        "  \n",
        "  def eat(self, dish):\n",
        "    print(f\"I'm eating {dish}\")"
      ],
      "execution_count": null,
      "outputs": []
    },
    {
      "cell_type": "markdown",
      "metadata": {
        "id": "a3OEN4gtCbqE"
      },
      "source": [
        "Let's create next *Poney Instances*:<br>\n",
        "\n",
        "\n",
        "1.    ![twighlight sparkle](https://pm1.narvii.com/6814/75dc2c353504f56e869dc7f75001a144492156ffv2_128.jpg) **Twighlight Sparkle**\n",
        "2.   ![rainbow dash](https://images-wixmp-ed30a86b8c4ca887773594c2.wixmp.com/intermediary/f/e11fd163-03b4-4f3f-a796-76569e8866e0/dcvbq4t-a4080b3d-7a32-4f2e-9a69-d000f206142d.png) **Rainbow Dash**\n",
        "3. ![pinky pie](https://pa1.narvii.com/6565/d7f7d30e83fd1c9ac16a6103a57dccf251e6658d_128.gif) **Pinky Pie**\n",
        "\n"
      ]
    },
    {
      "cell_type": "code",
      "metadata": {
        "id": "qD81YFm9FlUH"
      },
      "source": [
        "twighlight_sparkle = Poney()\n",
        "\n",
        "rainbow_dash = Poney()\n",
        "\n",
        "pinkey_pie = Poney()"
      ],
      "execution_count": null,
      "outputs": []
    },
    {
      "cell_type": "markdown",
      "metadata": {
        "id": "NTDgAz7eGUe8"
      },
      "source": [
        "Let's try to perform some actions with poney or take some info."
      ]
    },
    {
      "cell_type": "code",
      "metadata": {
        "id": "-YsobOYkGlNr"
      },
      "source": [
        "print(f\"Twighlight has {twighlight_sparkle.pawns} pawns\")\n",
        "print(f\"Let's Rainbow Dash run and stop\")\n",
        "rainbow_dash.run()\n",
        "rainbow_dash.stop()\n",
        "print(f\"Feed Pinkey with 15 pies :)\")\n",
        "pinkey_pie.eat(\"15 pies\")\n",
        "\n",
        "twighlight_sparkle.pawns = 2\n",
        "print(f\"Twighlight has {twighlight_sparkle.pawns} pawns\")"
      ],
      "execution_count": null,
      "outputs": []
    },
    {
      "cell_type": "markdown",
      "metadata": {
        "id": "umUK-jtotvxZ"
      },
      "source": [
        "## ![WINDOW](https://encrypted-tbn0.gstatic.com/images?q=tbn:ANd9GcT2heKCti1MqhuBMZ372qNgQrgXKBKUjtY2M1rlvfqOMeOZJLbO) CLASS STRUCTURE"
      ]
    },
    {
      "cell_type": "markdown",
      "metadata": {
        "id": "9vSLSC_fk-_u"
      },
      "source": [
        "### Simple Class with static *__init__* initializator and instance methods"
      ]
    },
    {
      "cell_type": "markdown",
      "metadata": {
        "id": "X8ZQ1doKnb3u"
      },
      "source": [
        "\n",
        "Last time we've described an **idea of poney** like **class**.<br>\n",
        "But in this implementation does not allow us to describe such important *attributes*, like *name*. On other hand, we aren't sure that each **poney** has **exactly 4 pawns, not 5 or 3**. <br>\n",
        "Such mutable for each *object attribute* we are doing initialization through  *\\_\\_init\\_\\_* method.<br>\n",
        "Let's creating a *class* with *\\_\\_init\\_\\_* method.<br>"
      ]
    },
    {
      "cell_type": "code",
      "metadata": {
        "id": "tG0osHQipXET"
      },
      "source": [
        "class Poney(object):\n",
        "  def __init__(self, \n",
        "               name: str, \n",
        "               heads = 1, \n",
        "               pawns = 4, \n",
        "               manes = 1, \n",
        "               eyes = 2, \n",
        "               tails = 1, \n",
        "               corns = 1, \n",
        "               wings = 0):\n",
        "    self.name = name\n",
        "    self.heads = heads\n",
        "    self.manes = manes\n",
        "    self.eyes = eyes\n",
        "    self.tails = tails\n",
        "    self.corns = corns\n",
        "    self.wings = wings\n",
        "    self.pawns = pawns\n",
        "    self.lifes = 1\n",
        "  \n",
        "  # INSTANCE METHODS\n",
        "  def run(self):\n",
        "    print(f\"I'm running with all my {self.pawns} pawns!\")\n",
        "   \n",
        "  def stop(self):\n",
        "    print(f\"Tprrrrrrrrrrrrr! Stopping!\")\n",
        "  \n",
        "  def look(self):\n",
        "    print(f\"{self.name} looks with all {self.eyes} eyes\")\n",
        "  \n",
        "  def say(self, phrase: str):\n",
        "    print(f\"{self.name} says: - {phrase}\")\n",
        "  \n",
        "  def eat(self, dish):\n",
        "    print(f\"{self.name} eats {dish}\")"
      ],
      "execution_count": null,
      "outputs": []
    },
    {
      "cell_type": "markdown",
      "metadata": {
        "id": "8SkF9CPGq8o7"
      },
      "source": [
        "Let's create next *Poney Instances*:<br>\n",
        "\n",
        "\n",
        "1.    ![twighlight sparkle](https://pm1.narvii.com/6814/75dc2c353504f56e869dc7f75001a144492156ffv2_128.jpg) **Twighlight Sparkle**\n",
        "2.   ![rainbow dash](https://images-wixmp-ed30a86b8c4ca887773594c2.wixmp.com/intermediary/f/e11fd163-03b4-4f3f-a796-76569e8866e0/dcvbq4t-a4080b3d-7a32-4f2e-9a69-d000f206142d.png) **Rainbow Dash**\n",
        "3. ![pinky pie](https://pa1.narvii.com/6565/d7f7d30e83fd1c9ac16a6103a57dccf251e6658d_128.gif) **Pinky Pie**"
      ]
    },
    {
      "cell_type": "code",
      "metadata": {
        "id": "vrVnlI1erAYZ"
      },
      "source": [
        "twighlight_sparkle = Poney(\"Twighlight Sparkle\")\n",
        "\n",
        "rainbow_dash = Poney(name=\"Rainbow Dash\", wings=2, corns=0)\n",
        "\n",
        "pinkey_pie = Poney(\"Pinky Pie\", corns=0)"
      ],
      "execution_count": null,
      "outputs": []
    },
    {
      "cell_type": "markdown",
      "metadata": {
        "id": "ObQSuePYruKI"
      },
      "source": [
        "Let's try to perform some actions with poney or take some info."
      ]
    },
    {
      "cell_type": "code",
      "metadata": {
        "id": "BnlDpD12rwZy"
      },
      "source": [
        "twighlight_sparkle.eat(\"onion\")\n",
        "\n",
        "rainbow_dash.say(f\"I have {rainbow_dash.wings} wings and {rainbow_dash.corns} corns\")\n",
        "\n",
        "pinkey_pie.look()"
      ],
      "execution_count": null,
      "outputs": []
    },
    {
      "cell_type": "markdown",
      "metadata": {
        "id": "rND1kFBPN7XT"
      },
      "source": [
        "### Simple class with properties"
      ]
    },
    {
      "cell_type": "markdown",
      "metadata": {
        "id": "cpqc0ciWOGt8"
      },
      "source": [
        "Each *poney* in *Poneywill* can be 1 of 3 types:\n",
        "\n",
        "\n",
        "1.   **Unicorn** - has 1 *corn* and *defaults*\n",
        "2.   **Pegassus** - has 2 *wings* and *defaults*\n",
        "3.   **Poney** - has  *defaults*\n",
        "4.   **Equestria Princess** - joins properties of *pegassus* and *unicorn* types\n",
        "\n",
        "This is counted data and should be represented as *properties*.\n",
        "\n"
      ]
    },
    {
      "cell_type": "code",
      "metadata": {
        "id": "1is5zaTUQmNb"
      },
      "source": [
        "from IPython.display import HTML\n",
        "\n",
        "class Poney:\n",
        "  def __init__(self, name: str, portrait_url: str, \n",
        "               heads=1, \n",
        "               pawns = 4, \n",
        "               manes = 1, \n",
        "               eyes = 2, \n",
        "               tails = 1, \n",
        "               corns = 1, \n",
        "               wings = 0):\n",
        "    self.name = name\n",
        "    self.heads = heads\n",
        "    self.manes = manes\n",
        "    self.eyes = eyes\n",
        "    self.tails = tails\n",
        "    self.corns = corns\n",
        "    self.wings = wings\n",
        "    self.portrait = f\"<img src='{portrait_url}' alt='{self.name}' />\"\n",
        "    self.template = \"<table><tr><td style='background-color: silver'>{}</td><td style='font-weight: bold'>{}</td></tr></table><br>\"\n",
        "    \n",
        "  # PROPERTIES\n",
        "  @property\n",
        "  def type(self):\n",
        "    if self.corns>0 and self.wings == 0:\n",
        "      return 'unicorn'\n",
        "    elif self.corns==0 and self.wings > 0:\n",
        "      return 'pegassus'\n",
        "    elif self.corns > 0 and self.wings > 0:\n",
        "      return 'equestria princess'\n",
        "    else:\n",
        "      return 'poney'\n",
        "  \n",
        "  # INSTANCE METHODS\n",
        "  def run(self):\n",
        "    display(HTML(self.template.format(self.portrait, f\"{self.name} is running with all my {self.pawns} pawns!\")))\n",
        "   \n",
        "  def stop(self):\n",
        "    display(HTML(self.template.format(self.portrait, f\"Tprrrrrrrrrrrrr! Stopping!\")))\n",
        "  \n",
        "  def look(self):\n",
        "    display(HTML(self.template.format(self.portrait, f\"{self.name} looks with all {self.eyes} eyes\")))\n",
        "  \n",
        "  def say(self, phrase: str):\n",
        "    display(HTML(self.template.format(self.portrait, f\"{self.name} says: - {phrase}\")))\n",
        "  \n",
        "  def eat(self, dish):\n",
        "    display(HTML(self.template.format(self.portrait, f\"{self.name} eats {dish}\")))\n",
        "   \n",
        "  def fly(self):\n",
        "    if self.type != 'pegassus' and self.type != 'equestria princess':\n",
        "      display(HTML(self.template.format(self.portrait, f\"{self.name} is not a pegassus or princess and can't fly\")))\n",
        "    else:\n",
        "      display(HTML(self.template.format(self.portrait, f\"{self.name} is flying\")))\n",
        "  \n",
        "  def cast_to_princess(self):\n",
        "    if self.type != 'unicorn':\n",
        "      display(HTML(self.template.format(self.portrait, f\"{self.name} is unable to stay a princes, while she's not a n unicorn\")))\n",
        "    else:\n",
        "      self.corns = 1\n",
        "      self.wings = 2"
      ],
      "execution_count": null,
      "outputs": []
    },
    {
      "cell_type": "markdown",
      "metadata": {
        "id": "L2OlTrriXBiE"
      },
      "source": [
        "Let's create next *Poney Instances*:<br>\n",
        "\n",
        "\n",
        "1.    ![twighlight sparkle](https://pm1.narvii.com/6814/75dc2c353504f56e869dc7f75001a144492156ffv2_128.jpg) **Twighlight Sparkle**\n",
        "2.   ![rainbow dash](https://images-wixmp-ed30a86b8c4ca887773594c2.wixmp.com/intermediary/f/e11fd163-03b4-4f3f-a796-76569e8866e0/dcvbq4t-a4080b3d-7a32-4f2e-9a69-d000f206142d.png) **Rainbow Dash**\n",
        "3. ![pinky pie](https://pa1.narvii.com/6565/d7f7d30e83fd1c9ac16a6103a57dccf251e6658d_128.gif) **Pinky Pie**"
      ]
    },
    {
      "cell_type": "code",
      "metadata": {
        "id": "zlovHWFPXG5H"
      },
      "source": [
        "twighlight_sparkle_pic_url = \"https://pm1.narvii.com/6814/75dc2c353504f56e869dc7f75001a144492156ffv2_128.jpg\"\n",
        "rainbow_dash_pic_url = \"https://images-wixmp-ed30a86b8c4ca887773594c2.wixmp.com/intermediary/f/e11fd163-03b4-4f3f-a796-76569e8866e0/dcvbq4t-a4080b3d-7a32-4f2e-9a69-d000f206142d.png\"\n",
        "pinkey_pie_pic_url = \"https://pa1.narvii.com/6565/d7f7d30e83fd1c9ac16a6103a57dccf251e6658d_128.gif\"\n",
        "\n",
        "twighlight_sparkle = Poney(\"Twighlight Sparkle\", twighlight_sparkle_pic_url)\n",
        "\n",
        "rainbow_dash = Poney(name=\"Rainbow Dash\", wings=2, corns=0, portrait_url=rainbow_dash_pic_url)\n",
        "\n",
        "pinkey_pie = Poney(name=\"Pinky Pie\", corns=0, portrait_url=pinkey_pie_pic_url)"
      ],
      "execution_count": null,
      "outputs": []
    },
    {
      "cell_type": "markdown",
      "metadata": {
        "id": "UZ60SKG3X52N"
      },
      "source": [
        "Let's try to perform some actions with poney or take some info."
      ]
    },
    {
      "cell_type": "code",
      "metadata": {
        "id": "8fBOYj66X77w"
      },
      "source": [
        "rainbow_dash.eat(\"onion\")\n",
        "\n",
        "twighlight_sparkle.say(f\"I am a {twighlight_sparkle.type}\")\n",
        "\n",
        "pinkey_pie.look()\n",
        "\n",
        "twighlight_sparkle.fly()"
      ],
      "execution_count": null,
      "outputs": []
    },
    {
      "cell_type": "markdown",
      "metadata": {
        "id": "gaCVRqMrZh84"
      },
      "source": [
        "And now is a time to make *Twighlight* a princess."
      ]
    },
    {
      "cell_type": "code",
      "metadata": {
        "id": "rB7WVBDzZuUB"
      },
      "source": [
        "twighlight_sparkle.cast_to_princess()\n",
        "\n",
        "twighlight_sparkle.say(f\"I am a {twighlight_sparkle.type}\")\n",
        "twighlight_sparkle.fly()"
      ],
      "execution_count": null,
      "outputs": []
    },
    {
      "cell_type": "markdown",
      "metadata": {
        "id": "OHFoD_Z9aKgL"
      },
      "source": [
        "## ![alt text](https://encrypted-tbn0.gstatic.com/images?q=tbn:ANd9GcQHf3l_WjUOxnelRy8zBcdJ7IMJkw7jwkcLk0hV7gKLGofl7cgqcg) CLASS METHODS"
      ]
    },
    {
      "cell_type": "markdown",
      "metadata": {
        "id": "qSfyGfwCaREM"
      },
      "source": [
        "### Simple Example"
      ]
    },
    {
      "cell_type": "code",
      "metadata": {
        "id": "6Ud_UlcQaWAs"
      },
      "source": [
        "import datetime\n",
        "\n",
        "class SportEvents:\n",
        "    next_olympiade_date = datetime.date(2022, 2, 4)\n",
        "\n",
        "    @classmethod\n",
        "    def how_many_days_to_olympiade(cls):\n",
        "        return (cls.next_olympiade_date - \\\n",
        "                datetime.date.today()).days"
      ],
      "execution_count": null,
      "outputs": []
    },
    {
      "cell_type": "markdown",
      "metadata": {
        "id": "MickqvVHaqUH"
      },
      "source": [
        "Using it."
      ]
    },
    {
      "cell_type": "code",
      "metadata": {
        "id": "7-Blhosjask1"
      },
      "source": [
        "print(SportEvents.how_many_days_to_olympiade())\n",
        "p = SportEvents()\n",
        "print(f\"I am crazy!!! \\\n",
        "{p.how_many_days_to_olympiade()}\")"
      ],
      "execution_count": null,
      "outputs": []
    },
    {
      "cell_type": "markdown",
      "metadata": {
        "id": "bxAkyRPua-Wz"
      },
      "source": [
        "## STATIC METHODS"
      ]
    },
    {
      "cell_type": "markdown",
      "metadata": {
        "id": "RUclLjatbDTy"
      },
      "source": [
        "### Simple Example"
      ]
    },
    {
      "cell_type": "code",
      "metadata": {
        "id": "Uyo40uNbbFx0"
      },
      "source": [
        "class SomeClass:\n",
        "    \n",
        "    @staticmethod\n",
        "    def sum(a, b):\n",
        "        return a + b\n",
        "\n",
        "print(SomeClass.sum(45, 99))"
      ],
      "execution_count": null,
      "outputs": []
    },
    {
      "cell_type": "markdown",
      "metadata": {
        "id": "MFMDrSOibYHh"
      },
      "source": [
        "## ![alt text](https://www.guru99.com/images/relateditemsxtd/621fb586ab4b0b7ff6b2259cdddb7f9a.png) INCAPSULATION"
      ]
    },
    {
      "cell_type": "code",
      "metadata": {
        "id": "t7n3A0TibXWs"
      },
      "source": [
        "class SomeClass(object):\n",
        "    def __init__(self, a, b):\n",
        "        self.__a = a\n",
        "        self.b = b\n",
        "\n",
        "    def __hidden(self):\n",
        "        return 1"
      ],
      "execution_count": null,
      "outputs": []
    },
    {
      "cell_type": "code",
      "metadata": {
        "id": "CTqVrfopblVs"
      },
      "source": [
        "some_instance = SomeClass(1, 2)"
      ],
      "execution_count": null,
      "outputs": []
    },
    {
      "cell_type": "code",
      "metadata": {
        "id": "jBZGJ9_ybmPn"
      },
      "source": [
        "print(some_instance.__a)"
      ],
      "execution_count": null,
      "outputs": []
    },
    {
      "cell_type": "code",
      "metadata": {
        "id": "VRzj5Ef6botY"
      },
      "source": [
        "print(some_instance.b)"
      ],
      "execution_count": null,
      "outputs": []
    },
    {
      "cell_type": "code",
      "metadata": {
        "id": "H9FDE2aObrnp"
      },
      "source": [
        "print(some_instance.__hidden())"
      ],
      "execution_count": null,
      "outputs": []
    },
    {
      "cell_type": "code",
      "metadata": {
        "id": "5uKr2MGBbukN"
      },
      "source": [
        "print(some_instance._SomeClass__a)"
      ],
      "execution_count": null,
      "outputs": []
    },
    {
      "cell_type": "code",
      "metadata": {
        "id": "EFg5SKVQbxph"
      },
      "source": [
        "print(some_instance._SomeClass__hidden())"
      ],
      "execution_count": null,
      "outputs": []
    },
    {
      "cell_type": "markdown",
      "metadata": {
        "id": "y1tcGUq3b4Pm"
      },
      "source": [
        "## ![alt text](data:image/jpeg;base64,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) NAMED TUPLES"
      ]
    },
    {
      "cell_type": "markdown",
      "metadata": {
        "id": "RteKEwfFcD7d"
      },
      "source": [
        "### Declaration"
      ]
    },
    {
      "cell_type": "code",
      "metadata": {
        "id": "631j2bYocIJ4"
      },
      "source": [
        "from collections import namedtuple\n",
        "\n",
        "TupledHuman = namedtuple(\"TupledHuman\", [\n",
        "    \"name\", \n",
        "    \"surname\", \n",
        "    \"height\", \n",
        "    \"weight\", \n",
        "    \"birth_date\", \n",
        "    \"age\"\n",
        "])"
      ],
      "execution_count": null,
      "outputs": []
    },
    {
      "cell_type": "markdown",
      "metadata": {
        "id": "jpUdpSi-cNYB"
      },
      "source": [
        "### Usage"
      ]
    },
    {
      "cell_type": "code",
      "metadata": {
        "id": "sL0M20TocPpd"
      },
      "source": [
        "from datetime import date\n",
        "\n",
        "john_lehnon = TupledHuman(\n",
        "    \"John\", \n",
        "    \"Lehnon\", \n",
        "    165, \n",
        "    76, \n",
        "    date(1948, 8, 15), \n",
        "    61\n",
        ")\n",
        "\n",
        "print(john_lehnon.name)\n",
        "print(john_lehnon.birth_date)\n",
        "print(john_lehnon._asdict())\n",
        "\n",
        "suleiman_kanuni = TupledHuman._make(['Suleiman', 'Osman', 188, 85, date(1510, 10, 25), 34])\n",
        "\n",
        "print(suleiman_kanuni.age)"
      ],
      "execution_count": null,
      "outputs": []
    }
  ]
}