{
  "nbformat": 4,
  "nbformat_minor": 0,
  "metadata": {
    "colab": {
      "name": "AggregationFunctions.ipynb",
      "private_outputs": true,
      "provenance": [],
      "collapsed_sections": [],
      "include_colab_link": true
    },
    "kernelspec": {
      "name": "python3",
      "display_name": "Python 3"
    }
  },
  "cells": [
    {
      "cell_type": "markdown",
      "metadata": {
        "id": "view-in-github",
        "colab_type": "text"
      },
      "source": [
        "<a href=\"https://colab.research.google.com/github/OlesiaPoliakova/Education/blob/main/AggregationFunctions.ipynb\" target=\"_parent\"><img src=\"https://colab.research.google.com/assets/colab-badge.svg\" alt=\"Open In Colab\"/></a>"
      ]
    },
    {
      "cell_type": "markdown",
      "metadata": {
        "id": "R8gSqdQUnYzx"
      },
      "source": [
        "# ![alt text](https://upload.wikimedia.org/wikipedia/commons/c/c3/Python-logo-notext.svg)      PYTHON BASICS"
      ]
    },
    {
      "cell_type": "markdown",
      "metadata": {
        "id": "KfwMjP8jnkDj"
      },
      "source": [
        "## ![conveyor](https://vs-publisher-1448185.gallerycdn.vsassets.io/extensions/vs-publisher-1448185/conveyor2012/1.9.0/1551401784995/Microsoft.VisualStudio.Services.Icons.Default) MAP FUNCTION"
      ]
    },
    {
      "cell_type": "markdown",
      "metadata": {
        "id": "OfM6iDB5pZjh"
      },
      "source": [
        "### Simple map implementation\n",
        "Takes all quotes from [here](https://raw.githubusercontent.com/ranjith19/random-quotes-generator/master/quotes.txt) and makes them all of *CAPITAL LETTERS*. To save the place we will print only *2 of them*."
      ]
    },
    {
      "cell_type": "code",
      "metadata": {
        "id": "BI80cBLQwxPP"
      },
      "source": [
        "#@title Install requirements\n",
        "!pip install requests"
      ],
      "execution_count": null,
      "outputs": []
    },
    {
      "cell_type": "markdown",
      "metadata": {
        "id": "4dMiJ3pp0Og0"
      },
      "source": [
        "**Writing function which capitalizes quotes using ** *map*"
      ]
    },
    {
      "cell_type": "code",
      "metadata": {
        "id": "VTnHN5DrnP4_"
      },
      "source": [
        "import requests\n",
        "\n",
        "def capital_lettered_quotes():\n",
        "  quotes = requests.get(\"https://raw.githubusercontent.com/ranjith19/random-quotes-generator/master/quotes.txt\").text.split(\"\\n.\\n\")\n",
        "  \n",
        "  # MAPPING NEW QUOTES WITH CAPITAL LETTERS!!!\n",
        "  quotes_capital = list(map(lambda quote: quote.upper(), quotes))\n",
        "  \n",
        "  return {\"initial\": quotes, \"capitalized\": quotes_capital} "
      ],
      "execution_count": null,
      "outputs": []
    },
    {
      "cell_type": "markdown",
      "metadata": {
        "id": "fgWELBsB0qIB"
      },
      "source": [
        "**Writing HTML template**"
      ]
    },
    {
      "cell_type": "code",
      "metadata": {
        "id": "DyL7mxBo3CW2"
      },
      "source": [
        "html_template = \"\"\"\n",
        "<table>\n",
        "<tr>\n",
        "<th>Original Quote</th>\n",
        "<th>Capitalized Quote</th>\n",
        "</tr>\n",
        "<tr>\n",
        "<td>{}</td>\n",
        "<td>{}</td>\n",
        "</tr>\n",
        "</table>\n",
        "\"\"\""
      ],
      "execution_count": null,
      "outputs": []
    },
    {
      "cell_type": "markdown",
      "metadata": {
        "id": "unlngAcxCN3H"
      },
      "source": [
        "**Verifying our *mapping***"
      ]
    },
    {
      "cell_type": "code",
      "metadata": {
        "id": "76KKlQq2CU4E"
      },
      "source": [
        "import random\n",
        "from IPython.display import HTML\n",
        "\n",
        "all_quotes = capital_lettered_quotes()\n",
        "\n",
        "quotes_len = len(all_quotes[\"initial\"])\n",
        "\n",
        "random_index = random.randint(0, quotes_len)\n",
        "\n",
        "display(HTML(html_template.format(all_quotes[\"initial\"][random_index], all_quotes[\"capitalized\"][random_index])))"
      ],
      "execution_count": null,
      "outputs": []
    },
    {
      "cell_type": "markdown",
      "metadata": {
        "id": "wy3dbmuoIgul"
      },
      "source": [
        "## ![filter](https://www.lancermidwest.com/18850-medium_default/triple-filter-with-sediment-pre-filter-35000-gal-6-gpm-1-micron.jpg) FILTER FUNCTIONS"
      ]
    },
    {
      "cell_type": "markdown",
      "metadata": {
        "id": "dnJbjTCiJBYe"
      },
      "source": [
        "### Simple usage of *filter* function\n",
        "\n",
        "Filtering quotes leaving only that, which contains word or phrase given in the input."
      ]
    },
    {
      "cell_type": "markdown",
      "metadata": {
        "id": "qrMQpxLPJh2e"
      },
      "source": [
        "**HTML Template**"
      ]
    },
    {
      "cell_type": "code",
      "metadata": {
        "id": "kVRm5X7HJkh3"
      },
      "source": [
        "filter_template = \"\"\"\n",
        "<table>\n",
        "<tr><th>Found with pattern '{}'</th></tr>\n",
        "{}\n",
        "<tr><td><hr><br>Found {} occurances</td></tr>\n",
        "</table>\n",
        "\"\"\""
      ],
      "execution_count": null,
      "outputs": []
    },
    {
      "cell_type": "markdown",
      "metadata": {
        "id": "fUmEtWnEKYgo"
      },
      "source": [
        "**Writing filtering function**"
      ]
    },
    {
      "cell_type": "code",
      "metadata": {
        "id": "NDWistLnKg2F"
      },
      "source": [
        "import requests\n",
        "\n",
        "def filter_quotes(pattern: str)->list:\n",
        "  quotes = requests.get(\"https://raw.githubusercontent.com/ranjith19/random-quotes-generator/master/quotes.txt\").text.split(\"\\n.\\n\")\n",
        "  \n",
        "  return list(filter(lambda quote: pattern in quote, quotes))"
      ],
      "execution_count": null,
      "outputs": []
    },
    {
      "cell_type": "markdown",
      "metadata": {
        "id": "Uza49wStLLC9"
      },
      "source": [
        "**Using filter**"
      ]
    },
    {
      "cell_type": "code",
      "metadata": {
        "id": "DU17aXsCLQOB"
      },
      "source": [
        "from IPython.display import HTML\n",
        "\n",
        "filtered = \"\"\n",
        "pattern = input(\"What to search between the quotes? \")\n",
        "\n",
        "filtered_quotes = filter_quotes(pattern)\n",
        "\n",
        "for quote in filtered_quotes:\n",
        "  filtered += f\"<tr><td>{quote}</td></tr>\"\n",
        "  \n",
        "display(HTML(filter_template.format(pattern, filtered, len(filtered_quotes))))"
      ],
      "execution_count": null,
      "outputs": []
    },
    {
      "cell_type": "markdown",
      "metadata": {
        "id": "UtL7z69LO8zp"
      },
      "source": [
        "## ![lego](https://cdn3.iconfinder.com/data/icons/essentials-volume-5/128/lego-2-2-128.png) REDUCE FUNCTION"
      ]
    },
    {
      "cell_type": "markdown",
      "metadata": {
        "id": "ZvCwOu4TPV8Z"
      },
      "source": [
        "### Simple reduce usage\n"
      ]
    },
    {
      "cell_type": "code",
      "metadata": {
        "id": "uM2ijBI4P9bA"
      },
      "source": [
        "#@title How many numbers should we generate?\n",
        "how_many_numbers = 7 #@param {type:\"slider\", min:0, max:10, step:1}\n"
      ],
      "execution_count": null,
      "outputs": []
    },
    {
      "cell_type": "code",
      "metadata": {
        "id": "8zNUKKhAQhNT"
      },
      "source": [
        "from functools import reduce\n",
        "import random\n",
        "\n",
        "numbers = [random.randint(0, 100) for i in range(how_many_numbers)]\n",
        "\n",
        "statement = \" + \".join([str(num) for num in numbers]) + \" = {}\"\n",
        "\n",
        "result = reduce(lambda a, b: a + b, numbers)\n",
        "\n",
        "print(statement.format(str(result)))"
      ],
      "execution_count": null,
      "outputs": []
    }
  ]
}