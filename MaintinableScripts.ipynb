{
  "nbformat": 4,
  "nbformat_minor": 0,
  "metadata": {
    "colab": {
      "name": "MaintinableScripts.ipynb",
      "private_outputs": true,
      "provenance": [],
      "collapsed_sections": [],
      "include_colab_link": true
    },
    "kernelspec": {
      "name": "python3",
      "display_name": "Python 3"
    },
    "language_info": {
      "name": "python"
    }
  },
  "cells": [
    {
      "cell_type": "markdown",
      "metadata": {
        "id": "view-in-github",
        "colab_type": "text"
      },
      "source": [
        "<a href=\"https://colab.research.google.com/github/OlesiaPoliakova/Education/blob/main/MaintinableScripts.ipynb\" target=\"_parent\"><img src=\"https://colab.research.google.com/assets/colab-badge.svg\" alt=\"Open In Colab\"/></a>"
      ]
    },
    {
      "cell_type": "code",
      "metadata": {
        "cellView": "form",
        "id": "QmExLUy8HElO"
      },
      "source": [
        "#@title Installing dependencies\n",
        "!pip install pytest ipython_pytest ipyext unittest2 requests pandas\n",
        "%load_ext ipython_pytest\n",
        "%load_ext ipyext.writeandexecute\n",
        "\n",
        "!rm *.py\n",
        "!rm locations.csv\n",
        "\n",
        "rows = [\n",
        "        \"kyiv,ua\",\n",
        "        \"warsaw,pl\",\n",
        "        \"berlin,de\"\n",
        "]\n",
        "\n",
        "with open(\"locations.csv\", \"w\") as locations:\n",
        "  for row in rows:\n",
        "    locations.write(row + \"\\n\")"
      ],
      "execution_count": null,
      "outputs": []
    },
    {
      "cell_type": "markdown",
      "metadata": {
        "id": "DP9MjfX-Bfwu"
      },
      "source": [
        "#Maintainable Test Scripts Approaches\n",
        "##Incapsulate SUT interaction **beings** into **classes**. Create *REST API Client* for [сайту Open Weather](https://openweathermap.org/api) \n",
        "###Create **helper** to properly form *REST Query URL*"
      ]
    },
    {
      "cell_type": "code",
      "metadata": {
        "id": "7S43mIT6KjFe"
      },
      "source": [
        "%%writeandexecute -i identifier example_helper.py\n",
        "\n",
        "def get_openweather_api_query_url(endpoint, api_key, **kwargs):\n",
        "  req_args = dict(kwargs)\n",
        "  return f\"https://api.openweathermap.org/data/2.5/{endpoint}?{'&'.join([f'{i}={j}' for i, j in zip(req_args.keys(), req_args.values())])}&appid={api_key}\""
      ],
      "execution_count": null,
      "outputs": []
    },
    {
      "cell_type": "markdown",
      "metadata": {
        "id": "1pUomu3kKP0j"
      },
      "source": [
        "###Create Abstract API Client to maintain many kinds of clients in the framework"
      ]
    },
    {
      "cell_type": "code",
      "metadata": {
        "id": "aNgIFm3JAz6S"
      },
      "source": [
        "%%writeandexecute -i identifier example_abstract_api_client.py\n",
        "\n",
        "import json\n",
        "import requests\n",
        "from example_helper import *\n",
        "\n",
        "class AbstractApiClient:\n",
        "    def __init__(self, api_key):\n",
        "        self.__api_key = api_key\n",
        "        self.__client = requests.Session()\n",
        "\n",
        "    @property\n",
        "    def api_key(self):\n",
        "        return self.__api_key\n",
        "\n",
        "    def _get(self, endpoint, **kwargs):\n",
        "        url = get_openweather_api_query_url(endpoint, self.__api_key, **kwargs)\n",
        "        res = self.__client.get(url)\n",
        "        return res\n",
        "\n",
        "    def __del__(self):\n",
        "        self.__client.close()"
      ],
      "execution_count": null,
      "outputs": []
    },
    {
      "cell_type": "markdown",
      "metadata": {
        "id": "aCUmaWTsIzuH"
      },
      "source": [
        "###Create Client for some kind of features (get current weather for some options)"
      ]
    },
    {
      "cell_type": "code",
      "metadata": {
        "id": "k98y0LbNJPjr"
      },
      "source": [
        "%%writeandexecute -i identifier example_current_weather_client.py\n",
        "\n",
        "from example_abstract_api_client import AbstractApiClient\n",
        "\n",
        "class CurrentWeatherClient(AbstractApiClient):\n",
        "\n",
        "    def get_current_weather(self, city, country_code=None, state_code=None):\n",
        "        q = city\n",
        "        if state_code:\n",
        "            q += f\",{state_code}\"\n",
        "        if country_code:\n",
        "            q += f\",{country_code}\"\n",
        "\n",
        "        return self._get('weather', q=q)"
      ],
      "execution_count": null,
      "outputs": []
    },
    {
      "cell_type": "markdown",
      "metadata": {
        "id": "zQuXTmRALpok"
      },
      "source": [
        "## To get current weather client into our test without lowlevel code in the test, create *test fixture*"
      ]
    },
    {
      "cell_type": "code",
      "metadata": {
        "id": "1kTDwXE0M8O3"
      },
      "source": [
        "%%writeandexecute -i identifier example_fixtures.py\n",
        "\n",
        "import pytest\n",
        "from example_current_weather_client import CurrentWeatherClient\n",
        "\n",
        "@pytest.fixture(scope=\"session\")\n",
        "def current_weather_client():\n",
        "    api_client = CurrentWeatherClient(api_key=\"15bca8c10e86424df00fa826657dca87\")\n",
        "    yield api_client\n",
        "    del api_client"
      ],
      "execution_count": null,
      "outputs": []
    },
    {
      "cell_type": "markdown",
      "metadata": {
        "id": "bgOpMHpUPaHg"
      },
      "source": [
        "###Create necessary *test hooks* to parametrize tests"
      ]
    },
    {
      "cell_type": "code",
      "metadata": {
        "id": "GTQKLpKfQjSy"
      },
      "source": [
        "%%writeandexecute -i identifier example_test_hooks.py\n",
        "\n",
        "def pytest_generate_tests(metafunc):\n",
        "    rows = (\n",
        "         (\"kyiv\", \"ua\"),\n",
        "         (\"warsaw\", \"pl\"),\n",
        "         (\"berlin\", \"de\")\n",
        "     )\n",
        "\n",
        "    if \"current_weather_client\" in metafunc.fixturenames:\n",
        "        metafunc.parametrize(\"city, country_code\", rows)"
      ],
      "execution_count": null,
      "outputs": []
    },
    {
      "cell_type": "markdown",
      "metadata": {
        "id": "BZW8rL0PN_X0"
      },
      "source": [
        "##Now we can create tests which can be maintained"
      ]
    },
    {
      "cell_type": "code",
      "metadata": {
        "id": "CJ9AJup-Oauh"
      },
      "source": [
        "%%pytest\n",
        "\n",
        "from example_fixtures import *\n",
        "from example_test_hooks import *\n",
        "\n",
        "class TestCurrentWeather:\n",
        "    @pytest.mark.city_country\n",
        "    def test_current_weather_sync(self, current_weather_client: CurrentWeatherClient, city, country_code):\n",
        "        single_city_request = current_weather_client.get_current_weather(city)\n",
        "        city_country_request = current_weather_client.get_current_weather(city, country_code=country_code)\n",
        "\n",
        "        assert single_city_request.ok, f\"Request failed with the status code {single_city_request.status_code}\"\n",
        "        assert city_country_request.ok, f\"Request failed with the status code {city_country_request.status_code}\"\n",
        "\n",
        "        assert single_city_request.json() == city_country_request.json(), f\"\"\"Requests with city and city with country give different results\n",
        "        With city ({city}) only\n",
        "        {single_city_request.json()}\n",
        "        With city and country ({city}, {country_code})\n",
        "        {city_country_request.json()}\"\"\""
      ],
      "execution_count": null,
      "outputs": []
    }
  ]
}