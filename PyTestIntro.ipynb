{
  "nbformat": 4,
  "nbformat_minor": 0,
  "metadata": {
    "colab": {
      "name": "PyTestIntro.ipynb",
      "private_outputs": true,
      "provenance": [],
      "collapsed_sections": [],
      "include_colab_link": true
    },
    "kernelspec": {
      "name": "python3",
      "display_name": "Python 3"
    }
  },
  "cells": [
    {
      "cell_type": "markdown",
      "metadata": {
        "id": "view-in-github",
        "colab_type": "text"
      },
      "source": [
        "<a href=\"https://colab.research.google.com/github/OlesiaPoliakova/Education/blob/main/PyTestIntro.ipynb\" target=\"_parent\"><img src=\"https://colab.research.google.com/assets/colab-badge.svg\" alt=\"Open In Colab\"/></a>"
      ]
    },
    {
      "cell_type": "markdown",
      "metadata": {
        "id": "IVscSR00hjR1"
      },
      "source": [
        " # ![alt text](https://upload.wikimedia.org/wikipedia/commons/c/c3/Python-logo-notext.svg)      PYTEST BASICS"
      ]
    },
    {
      "cell_type": "code",
      "metadata": {
        "id": "-8QhAfBWjPjC"
      },
      "source": [
        "#@title Installing dependencies\n",
        "\n",
        "!pip install pytest ipython_pytest ipyext unittest2\n",
        "%load_ext ipython_pytest\n",
        "%load_ext ipyext.writeandexecute\n",
        "!rm -rf work_imports\n",
        "!mkdir work_imports\n",
        "!touch work_imports/__init__.py\n"
      ],
      "execution_count": null,
      "outputs": []
    },
    {
      "cell_type": "markdown",
      "metadata": {
        "id": "4eFYUbOqhshO"
      },
      "source": [
        "## ![bank acount](https://cdn0.iconfinder.com/data/icons/banking-color/64/open-account-bank-passbook-128.png) Bank Account Management App"
      ]
    },
    {
      "cell_type": "markdown",
      "metadata": {
        "id": "IYshsV_jiWyE"
      },
      "source": [
        "###Card Kinds"
      ]
    },
    {
      "cell_type": "code",
      "metadata": {
        "id": "tD2UtjAahgik"
      },
      "source": [
        "%%writeandexecute -i identifier work_imports/card_kinds.py\n",
        "from enum import Enum\n",
        "\n",
        "\n",
        "class CardsKinds(Enum):\n",
        "    NO_CARD = \"No Card\"\n",
        "    NORMAL_CARD = \"Normal Card\"\n",
        "    GOLD_CARD = \"Gold Card\"\n",
        "    PLATINUM_CARD = \"Platinum Card\""
      ],
      "execution_count": null,
      "outputs": []
    },
    {
      "cell_type": "markdown",
      "metadata": {
        "id": "QTmzL1T2jsFy"
      },
      "source": [
        "### Custom Exceptions"
      ]
    },
    {
      "cell_type": "code",
      "metadata": {
        "id": "pwh0d6kZjypq"
      },
      "source": [
        "%%writeandexecute -i identifier work_imports/exceptions.py\n",
        "\n",
        "class IncorrectDebetError(Exception):\n",
        "    pass\n",
        "\n",
        "class TakeMoneyUnavailabilityError(Exception):\n",
        "    pass"
      ],
      "execution_count": null,
      "outputs": []
    },
    {
      "cell_type": "markdown",
      "metadata": {
        "id": "Cg20dbfKj25L"
      },
      "source": [
        "### Main Programm Logic"
      ]
    },
    {
      "cell_type": "code",
      "metadata": {
        "id": "9IPGWPZUKd-m"
      },
      "source": [
        "%%writeandexecute -i identifier work_imports/bank_support.py\n",
        "from random import randint\n",
        "from work_imports.card_kinds import CardsKinds\n",
        "from work_imports.exceptions import *\n",
        "\n",
        "class BankSupport(object):\n",
        "    def __init__(self, account_debet=0.0):\n",
        "        self.account_id = randint(10000, 99999)\n",
        "        self.account_debet = account_debet\n",
        "\n",
        "    @property\n",
        "    def card_kind(self):\n",
        "        if self.account_debet < 0.0:\n",
        "            raise IncorrectDebetError\n",
        "            (\n",
        "                f\"Bank account #{str(self.account_id)}. \\\n",
        "                Debet is under zero: {str(self.account_debet)}\"\n",
        "            )\n",
        "        elif self.account_debet == 0.0:\n",
        "            return CardsKinds.NO_CARD\n",
        "        elif self.account_debet > 0.0 and \\\n",
        "        self.account_debet <= 9000.0:\n",
        "            return CardsKinds.NORMAL_CARD\n",
        "        elif self.account_debet > 10000.0 and \\\n",
        "        self.account_debet <= 99999.0:\n",
        "            return CardsKinds.GOLD_CARD\n",
        "        return CardsKinds.PLATINUM_CARD\n",
        "\n",
        "    def charge_account(self, sum: float):\n",
        "        if self.account_debet < 0.0 or sum < 0.0:\n",
        "            raise IncorrectDebetError\n",
        "            (\n",
        "                f\"Bank account #{str(self.account_id)}. \\\n",
        "                Debet is under zero: {str(self.account_debet)}\"\n",
        "            )\n",
        "        self.account_debet += sum\n",
        "\n",
        "    def take_founds(self, sum: float):\n",
        "        if self.account_debet < 0.0:\n",
        "            raise IncorrectDebetError\n",
        "            (\n",
        "                f\"Bank account #{str(self.account_id)}. \\\n",
        "                Debet is under zero: {str(self.account_debet)}\"\n",
        "            )\n",
        "        elif self.account_debet < sum:\n",
        "            raise TakeMoneyUnavailabilityError\n",
        "            (\n",
        "                f\"Bank account #{str(self.account_id)}. \\\n",
        "                Sum to take {str(sum)} is more than your debet: \\\n",
        "                {str(self.account_debet)}\"\n",
        "            )\n",
        "        self.account_debet -= sum"
      ],
      "execution_count": null,
      "outputs": []
    },
    {
      "cell_type": "markdown",
      "metadata": {
        "id": "sCqYAw-eKkDN"
      },
      "source": [
        "### PyUnit Tests"
      ]
    },
    {
      "cell_type": "code",
      "metadata": {
        "id": "RqhGhFOfKvhE"
      },
      "source": [
        "import unittest\n",
        "\n",
        "class MyTestSuite(unittest.TestCase):\n",
        "    @classmethod\n",
        "    def setUpClass(cls):\n",
        "        cls.cards = CardsKinds\n",
        "\n",
        "    @classmethod\n",
        "    def tearDownClass(cls):\n",
        "        del cls.cards\n",
        "\n",
        "    def setUp(self):\n",
        "        self.bank_account = BankSupport\n",
        "\n",
        "    def tearDown(self):\n",
        "        del self.bank_account\n",
        "\n",
        "    def test_no_card(self):\n",
        "        card_kind = self.bank_account(0).card_kind\n",
        "        self.assertEqual\n",
        "        (\n",
        "            card_kind, \n",
        "            self.cards.NO_CARD, \n",
        "            f\"Incorrect type of card has been returned: {card_kind}. Should be {self.cards.NO_CARD}\"\n",
        "        )\n",
        "\n",
        "    def test_normal_card(self):\n",
        "        card_kind = self.bank_account(1).card_kind\n",
        "        self.assertEqual\n",
        "        (\n",
        "            card_kind, \n",
        "            self.cards.NORMAL_CARD,\n",
        "            f\"Incorrect type of card has been returned: {card_kind}. Should be {self.cards.NORMAL_CARD}\"\n",
        "        )\n",
        "        \n",
        "        \n",
        "    def test_gold_card(self):\n",
        "        card_kind = self.bank_account(10001).card_kind\n",
        "        self.assertEqual\n",
        "        (\n",
        "            card_kind, \n",
        "            self.cards.GOLD_CARD,\n",
        "            f\"Incorrect type of card has been returned: {card_kind}. Should be {self.cards.GOLD_CARD}\"\n",
        "        )\n",
        "        \n",
        "        \n",
        "    def test_platinum(self):\n",
        "        card_kind = self.bank_account(100001).card_kind\n",
        "        self.assertEqual\n",
        "        (\n",
        "            card_kind, \n",
        "            self.cards.PLATINUM_CARD,\n",
        "            f\"Incorrect type of card has been returned: {card_kind}. Should be {self.cards.PLATINUM_CARD}\"\n",
        "        )\n",
        "        \n",
        "\n",
        "    def test_negative_debet(self):\n",
        "        negative_debet = -10.0\n",
        "        with self.assertRaises(IncorrectDebetError):\n",
        "            self.bank_account(negative_debet)\n",
        "\n",
        "    def test_take_more_then(self):\n",
        "        normal_account = self.bank_account(100)\n",
        "        with self.assertRaises(TakeMoneyUnavailabilityError):\n",
        "            normal_account.take_founds(1001)\n",
        "\n",
        "\n",
        "\n",
        "if __name__ == '__main__':\n",
        "    unittest.main(argv=[''], verbosity=2, exit=False)"
      ],
      "execution_count": null,
      "outputs": []
    },
    {
      "cell_type": "markdown",
      "metadata": {
        "id": "F_eZvI7CK0cW"
      },
      "source": [
        "### PyTest Functional Example"
      ]
    },
    {
      "cell_type": "code",
      "metadata": {
        "id": "itJu-VgTK8UD"
      },
      "source": [
        "%%pytest\n",
        "#import pytest\n",
        "from work_imports.bank_support import BankSupport\n",
        "from work_imports.card_kinds import CardsKinds\n",
        "from work_imports.exceptions import *\n",
        "\n",
        "def test_no_card():\n",
        "    card_kind = BankSupport(0).card_kind\n",
        "    assert card_kind == CardsKinds.NO_CARD, \\\n",
        "    f\"Incorrect type of card has been returned: {card_kind}. \\\n",
        "    Should be {CardsKinds.NO_CARD}\"\n",
        "\n",
        "def test_normal_card():\n",
        "    card_kind = BankSupport(1).card_kind\n",
        "    assert card_kind == CardsKinds.NORMAL_CARD, \\\n",
        "    f\"Incorrect type of card has been returned: {card_kind}. \\\n",
        "    Should be {CardsKinds.NORMAL_CARD}\"\n",
        "\n",
        "def test_gold_card():\n",
        "    card_kind = BankSupport(10001).card_kind\n",
        "    assert card_kind == CardsKinds.GOLD_CARD, \\\n",
        "    f\"Incorrect type of card has been returned: {card_kind}. \\\n",
        "    Should be {CardsKinds.GOLD_CARD}\"\n",
        "\n",
        "def test_platinum():\n",
        "    card_kind = BankSupport(10001).card_kind\n",
        "    assert card_kind == CardsKinds.GOLD_CARD, \\\n",
        "    f\"Incorrect type of card has been returned: {card_kind}. \\\n",
        "    Should be {CardsKinds.GOLD_CARD}\""
      ],
      "execution_count": null,
      "outputs": []
    },
    {
      "cell_type": "markdown",
      "metadata": {
        "id": "trdA-EdYMiWy"
      },
      "source": [
        "## ![simple dice game](https://image.flaticon.com/icons/png/128/138/138536.png) SIMPLE DICE GAME"
      ]
    },
    {
      "cell_type": "markdown",
      "metadata": {
        "id": "D_AWUHAINNbz"
      },
      "source": [
        "### Rules\n",
        "\n",
        "\n",
        "*   Throw 3 dices\n",
        "*  In case of *pair*, the amount of *points* * *10*\n",
        "* In case of 3 dices, amount of *points* is multiplied to *100*\n",
        "\n"
      ]
    },
    {
      "cell_type": "markdown",
      "metadata": {
        "id": "xEBRiMz-OKH4"
      },
      "source": [
        "### Dice class"
      ]
    },
    {
      "cell_type": "code",
      "metadata": {
        "id": "sKCeTqinOOJg"
      },
      "source": [
        "%%writeandexecute -i identifier work_imports/dice.py\n",
        "\n",
        "class Dice(object):\n",
        "  def __init__(self):\n",
        "    self.__scores = 1\n",
        "  \n",
        "  @property\n",
        "  def scores(self):\n",
        "    return self.__scores\n",
        "  \n",
        "  def set_scores(self, num):\n",
        "    self.__scores = num"
      ],
      "execution_count": null,
      "outputs": []
    },
    {
      "cell_type": "markdown",
      "metadata": {
        "id": "ywn8An0jO4Hz"
      },
      "source": [
        "### Game class"
      ]
    },
    {
      "cell_type": "code",
      "metadata": {
        "id": "tkaa6-95PD5T"
      },
      "source": [
        "%%writeandexecute -i identifier work_imports/dice_game.py\n",
        "\n",
        "from work_imports.dice import Dice\n",
        "    \n",
        "class Game(object):\n",
        "  def __init__(self):\n",
        "    self.dices = list(map(lambda a: Dice(), range(3)))\n",
        "  \n",
        "  def throw(self, first, second, third):\n",
        "    self.dices[0].set_scores(first)\n",
        "    self.dices[1].set_scores(second)\n",
        "    self.dices[2].set_scores(third)\n",
        "    \n",
        "    scores = [d.scores for d in self.dices]\n",
        "    \n",
        "    if scores.count(scores[0]) == 3:\n",
        "      return scores[0] * 100\n",
        "    elif scores.count(scores[0]) == 2:\n",
        "      return scores[0] * 10\n",
        "    elif scores.count(scores[1]) == 2:\n",
        "      return scores[1] * 10\n",
        "    \n",
        "    return sum(scores)"
      ],
      "execution_count": null,
      "outputs": []
    },
    {
      "cell_type": "markdown",
      "metadata": {
        "id": "mZRaw64NSKNa"
      },
      "source": [
        "### Your PyUnit tests"
      ]
    },
    {
      "cell_type": "code",
      "metadata": {
        "id": "mXwXQgBuSS4m"
      },
      "source": [
        "# Your code\n",
        "\n",
        "if __name__ == '__main__':\n",
        "    unittest.main(argv=[''], verbosity=2, exit=False)"
      ],
      "execution_count": null,
      "outputs": []
    },
    {
      "cell_type": "markdown",
      "metadata": {
        "id": "866D1-TkSd8i"
      },
      "source": [
        "### Your PyTest tests"
      ]
    },
    {
      "cell_type": "code",
      "metadata": {
        "id": "ap3yvn5XSj44"
      },
      "source": [
        "%%pytest\n",
        "import pytest\n",
        "from work_imports.dice_game import Game\n",
        "from work_imports.dice import Dice\n",
        "\n",
        "@pytest.fixture\n",
        "def check_exception():\n",
        "    def checker(function, exception: Exception, *args):\n",
        "        try:\n",
        "            function(*args)\n",
        "        except exception:\n",
        "            return True\n",
        "        except Exception:\n",
        "            return False\n",
        "        return False\n",
        "    return checker\n",
        "\n",
        "@pytest.fixture\n",
        "def game_provider():\n",
        "    return Game()\n",
        "\n",
        "\n",
        "def test_standart(game_provider):\n",
        "    first_scores = 1\n",
        "    second_scores = 2\n",
        "    third_scores = 3\n",
        "    expected_scores = 6\n",
        "    score = game_provider.throw(first_scores, second_scores, third_scores)\n",
        "    assert score == expected_scores\n",
        "\n",
        "\n",
        "def test_first_rule(game_provider):\n",
        "        first = 2\n",
        "        second = 2\n",
        "        third = 2\n",
        "        score = game_provider.throw(first, second, third)\n",
        "        assert score == 200\n",
        "\n",
        "\n",
        "def test_second_rule(game_provider):\n",
        "    first = 3\n",
        "    second = 1\n",
        "    third = 3\n",
        "    score = game_provider.throw(first, second, third)\n",
        "    assert score == 30\n",
        "\n",
        "\n",
        "def test_third_rule(game_provider):\n",
        "        first = 1\n",
        "        second = 5\n",
        "        third = 5\n",
        "        score = game_provider.throw(first, second, third)\n",
        "        assert score == 50\n",
        "\n",
        "\n",
        "def test_zero_dice(game_provider, check_exception):\n",
        "    first = 1\n",
        "    second = 0\n",
        "    third = 5\n",
        "    assert check_exception(game_provider.throw(first, second, third), IncorrectZeroDiceError)\n",
        "\n",
        "\n",
        "def test_negative_dice(game_provider, check_exception):\n",
        "    first = 1\n",
        "    second = 5\n",
        "    third = -5\n",
        "    assert check_exception(game_provider.throw(first, second, third), IncorrectNegativeDiceError)\n",
        "\n",
        "\n",
        "def test_big_dice(game_provider, check_exception):\n",
        "    first = 1\n",
        "    second = 5\n",
        "    third = 10\n",
        "    assert check_exception(game_provider.throw(first, second, third), IncorrectMoreThanMaxDiceError)"
      ],
      "execution_count": null,
      "outputs": []
    }
  ]
}