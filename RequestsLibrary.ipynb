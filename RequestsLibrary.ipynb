{
  "nbformat": 4,
  "nbformat_minor": 0,
  "metadata": {
    "colab": {
      "name": "RequestsLibrary.ipynb",
      "private_outputs": true,
      "provenance": [],
      "include_colab_link": true
    },
    "kernelspec": {
      "name": "python3",
      "display_name": "Python 3"
    },
    "language_info": {
      "name": "python"
    }
  },
  "cells": [
    {
      "cell_type": "markdown",
      "metadata": {
        "id": "view-in-github",
        "colab_type": "text"
      },
      "source": [
        "<a href=\"https://colab.research.google.com/github/OlesiaPoliakova/Education/blob/main/RequestsLibrary.ipynb\" target=\"_parent\"><img src=\"https://colab.research.google.com/assets/colab-badge.svg\" alt=\"Open In Colab\"/></a>"
      ]
    },
    {
      "cell_type": "markdown",
      "metadata": {
        "id": "oyrCERn9uStm"
      },
      "source": [
        "# Install library *requests*"
      ]
    },
    {
      "cell_type": "code",
      "metadata": {
        "id": "ftyYYZghuQtL"
      },
      "source": [
        "! pip install requests"
      ],
      "execution_count": null,
      "outputs": []
    },
    {
      "cell_type": "markdown",
      "metadata": {
        "id": "RlyJnUW6vOgq"
      },
      "source": [
        "# Making the HTTP requests\n",
        "## GET request\n",
        "### Request itself\n",
        "Just get the info about Today's weather in Kyiv from [Open Weather](https://openweathermap.org/) service.\n",
        "\n"
      ]
    },
    {
      "cell_type": "code",
      "metadata": {
        "id": "spdAR0v6wbKh"
      },
      "source": [
        "import requests\n",
        "\n",
        "weather_in_kyiv = requests.get(\"https://api.openweathermap.org/data/2.5/weather?q=kyiv&appid=15bca8c10e86424df00fa826657dca87\")"
      ],
      "execution_count": null,
      "outputs": []
    },
    {
      "cell_type": "markdown",
      "metadata": {
        "id": "I7guR7rRxTtP"
      },
      "source": [
        "### Get status code"
      ]
    },
    {
      "cell_type": "code",
      "metadata": {
        "id": "Xtf6UuKLxYbE"
      },
      "source": [
        "print(f\"Request has finished with the status code {weather_in_kyiv.status_code}\")"
      ],
      "execution_count": null,
      "outputs": []
    },
    {
      "cell_type": "markdown",
      "metadata": {
        "id": "57sdLYR7zVZ2"
      },
      "source": [
        "### Get text content"
      ]
    },
    {
      "cell_type": "code",
      "metadata": {
        "id": "D5Ji6glTziig"
      },
      "source": [
        "print(weather_in_kyiv.text)"
      ],
      "execution_count": null,
      "outputs": []
    },
    {
      "cell_type": "markdown",
      "metadata": {
        "id": "GDqvHmApnQ8k"
      },
      "source": [
        "### Get JSON response if it is returned"
      ]
    },
    {
      "cell_type": "code",
      "metadata": {
        "id": "ssskSxAsncuf"
      },
      "source": [
        "print(weather_in_kyiv.json()[\"main\"][\"temp\"])"
      ],
      "execution_count": null,
      "outputs": []
    },
    {
      "cell_type": "markdown",
      "metadata": {
        "id": "O0Tm47P_0oAo"
      },
      "source": [
        "### Get Response Headers"
      ]
    },
    {
      "cell_type": "code",
      "metadata": {
        "id": "tR7gIc0x0sG9"
      },
      "source": [
        "from pprint import pprint\n",
        "pprint(dict(weather_in_kyiv.headers))"
      ],
      "execution_count": null,
      "outputs": []
    },
    {
      "cell_type": "markdown",
      "metadata": {
        "id": "IJfSzxIKo6qB"
      },
      "source": [
        "## POST Request\n",
        "### Giving POST data as text"
      ]
    },
    {
      "cell_type": "code",
      "metadata": {
        "id": "WHEwcKx7sCiW"
      },
      "source": [
        "pet_info_text = \"\"\"\n",
        "{\n",
        "  \"id\": 10,\n",
        "  \"name\": \"TextDoggie\",\n",
        "  \"category\": {\n",
        "    \"id\": 1,\n",
        "    \"name\": \"Dogs\"\n",
        "  },\n",
        "  \"photoUrls\": [\n",
        "    \"string\"\n",
        "  ],\n",
        "  \"tags\": [\n",
        "    {\n",
        "      \"id\": 0,\n",
        "      \"name\": \"string\"\n",
        "    }\n",
        "  ],\n",
        "  \"status\": \"available\"\n",
        "}\n",
        "\"\"\"\n",
        "\n",
        "headers = {\n",
        "    'accept': 'application/xml',\n",
        "    'Content-Type': 'application/json'\n",
        "}\n",
        "\n",
        "pet_addition1 = requests.post(\"https://petstore3.swagger.io/api/v3/pet\", data=pet_info_text, headers=headers)"
      ],
      "execution_count": null,
      "outputs": []
    },
    {
      "cell_type": "markdown",
      "metadata": {
        "id": "ClwSxOBtsnSF"
      },
      "source": [
        "### Get request status code"
      ]
    },
    {
      "cell_type": "code",
      "metadata": {
        "id": "s4_ycx6kssDN"
      },
      "source": [
        "print(pet_addition1.status_code)"
      ],
      "execution_count": null,
      "outputs": []
    },
    {
      "cell_type": "markdown",
      "metadata": {
        "id": "biuwcqcDjwcg"
      },
      "source": [
        "### Get XML content"
      ]
    },
    {
      "cell_type": "code",
      "metadata": {
        "id": "UFMnITRVj45f"
      },
      "source": [
        "print(pet_addition1.text)"
      ],
      "execution_count": null,
      "outputs": []
    },
    {
      "cell_type": "markdown",
      "metadata": {
        "id": "Id9ztYdLkB3o"
      },
      "source": [
        "### Put query parameters as dict and change content format to JSON via headers"
      ]
    },
    {
      "cell_type": "code",
      "metadata": {
        "id": "SXFkujsMkSJg"
      },
      "source": [
        "import requests\n",
        "\n",
        "pet_info = {\n",
        "  \"id\": 11,\n",
        "  \"name\": \"JsonDoggie\",\n",
        "  \"category\": {\n",
        "    \"id\": 1,\n",
        "    \"name\": \"Dogs\"\n",
        "  },\n",
        "  \"photoUrls\": [\n",
        "    \"string\"\n",
        "  ],\n",
        "  \"tags\": [\n",
        "    {\n",
        "      \"id\": 0,\n",
        "      \"name\": \"string\"\n",
        "    }\n",
        "  ],\n",
        "  \"status\": \"available\"\n",
        "}\n",
        "\n",
        "headers = {\n",
        "    'accept': 'application/json',\n",
        "    'Content-Type': 'application/json'\n",
        "}\n",
        "\n",
        "pet_addition2 = requests.post(\"https://petstore3.swagger.io/api/v3/pet\", json=pet_info, headers=headers)"
      ],
      "execution_count": null,
      "outputs": []
    },
    {
      "cell_type": "markdown",
      "metadata": {
        "id": "vEj8_qHFlPGA"
      },
      "source": [
        "### Get request status code"
      ]
    },
    {
      "cell_type": "code",
      "metadata": {
        "id": "EEXP9Dc4lVE8"
      },
      "source": [
        "print(pet_addition2.status_code)"
      ],
      "execution_count": null,
      "outputs": []
    },
    {
      "cell_type": "markdown",
      "metadata": {
        "id": "I4AmH0vHlYeA"
      },
      "source": [
        "###Get JSON Content"
      ]
    },
    {
      "cell_type": "code",
      "metadata": {
        "id": "jSyiQnhnlb_6"
      },
      "source": [
        "from pprint import pprint\n",
        "pprint(dict(pet_addition2.json()))"
      ],
      "execution_count": null,
      "outputs": []
    },
    {
      "cell_type": "markdown",
      "metadata": {
        "id": "2XKqmgYum6kJ"
      },
      "source": [
        "## PUT request\n",
        "### Request itselt"
      ]
    },
    {
      "cell_type": "code",
      "metadata": {
        "id": "O4cqACbrnXjJ"
      },
      "source": [
        "pet_update = {\n",
        "  \"id\": 11,\n",
        "  \"name\": \"JsonDoggieUpdated\",\n",
        "  \"category\": {\n",
        "    \"id\": 1,\n",
        "    \"name\": \"Dogs\"\n",
        "  },\n",
        "  \"photoUrls\": [\n",
        "    \"string\"\n",
        "  ],\n",
        "  \"tags\": [\n",
        "    {\n",
        "      \"id\": 0,\n",
        "      \"name\": \"string\"\n",
        "    }\n",
        "  ],\n",
        "  \"status\": \"available\"\n",
        "}\n",
        "\n",
        "headers = {\n",
        "    'accept': 'application/json',\n",
        "    'Content-Type': 'application/json'\n",
        "}\n",
        "\n",
        "pet_update_request = requests.put('https://petstore3.swagger.io/api/v3/pet', json=pet_update)"
      ],
      "execution_count": null,
      "outputs": []
    },
    {
      "cell_type": "markdown",
      "metadata": {
        "id": "H4DAyijnowrE"
      },
      "source": [
        "### Get request status code"
      ]
    },
    {
      "cell_type": "code",
      "metadata": {
        "id": "mmRS0_QmoxlU"
      },
      "source": [
        "print(pet_update_request.status_code)"
      ],
      "execution_count": null,
      "outputs": []
    },
    {
      "cell_type": "markdown",
      "metadata": {
        "id": "wyc79oD_bA_V"
      },
      "source": [
        "###Try out the updated pet"
      ]
    },
    {
      "cell_type": "code",
      "metadata": {
        "id": "PbDwXj6_bFXs"
      },
      "source": [
        "import requests\n",
        "from pprint import pprint\n",
        "\n",
        "headers = {\n",
        "    'accept': 'application/json',\n",
        "    'Content-Type': 'application/json'\n",
        "}\n",
        "\n",
        "pet_updated = requests.get('https://petstore3.swagger.io/api/v3/pet/11', headers=headers)\n",
        "\n",
        "pprint(pet_updated.json())"
      ],
      "execution_count": null,
      "outputs": []
    },
    {
      "cell_type": "markdown",
      "metadata": {
        "id": "i5NRaxvadGmW"
      },
      "source": [
        "# Using request.Session to make many requests"
      ]
    },
    {
      "cell_type": "code",
      "metadata": {
        "id": "QYcoeclLd4KZ"
      },
      "source": [
        "import requests\n",
        "from pprint import pprint\n",
        "\n",
        "headers = {\n",
        "    'accept': 'application/json',\n",
        "    'Content-Type': 'application/json'\n",
        "}\n",
        "\n",
        "with requests.Session() as http_session:\n",
        "  http_session.headers.update(headers)\n",
        "  pet_info1 = {\n",
        "  \"id\": 12,\n",
        "  \"name\": \"Another Doggie\",\n",
        "  \"category\": {\n",
        "    \"id\": 1,\n",
        "    \"name\": \"Dogs\"\n",
        "  },\n",
        "  \"photoUrls\": [\n",
        "    \"string\"\n",
        "  ],\n",
        "  \"tags\": [\n",
        "    {\n",
        "      \"id\": 0,\n",
        "      \"name\": \"string\"\n",
        "    }\n",
        "  ],\n",
        "  \"status\": \"available\"\n",
        "  }\n",
        "\n",
        "  http_session.post(\"https://petstore3.swagger.io/api/v3/pet\", json=pet_info1)\n",
        "\n",
        "  pprint(http_session.get('https://petstore3.swagger.io/api/v3/pet/12').json())\n",
        "\n",
        "  pet_to_update1 = {\n",
        "  \"id\": 12,\n",
        "  \"name\": \"Yet Another Doggie 1\",\n",
        "  \"category\": {\n",
        "    \"id\": 1,\n",
        "    \"name\": \"Dogs\"\n",
        "  },\n",
        "  \"photoUrls\": [\n",
        "    \"string\"\n",
        "  ],\n",
        "  \"tags\": [\n",
        "    {\n",
        "      \"id\": 0,\n",
        "      \"name\": \"my_doggy\"\n",
        "    }\n",
        "  ],\n",
        "  \"status\": \"available\"\n",
        "  }\n",
        "\n",
        "  http_session.put('https://petstore3.swagger.io/api/v3/pet', json=pet_to_update1)\n",
        "\n",
        "  print(\"===================\")\n",
        "  pprint(http_session.get('https://petstore3.swagger.io/api/v3/pet/12').json())"
      ],
      "execution_count": null,
      "outputs": []
    }
  ]
}