{
  "nbformat": 4,
  "nbformat_minor": 0,
  "metadata": {
    "colab": {
      "name": "OperatorsOverload.ipynb",
      "private_outputs": true,
      "provenance": [],
      "collapsed_sections": [],
      "include_colab_link": true
    },
    "kernelspec": {
      "name": "python3",
      "display_name": "Python 3"
    },
    "language_info": {
      "name": "python"
    }
  },
  "cells": [
    {
      "cell_type": "markdown",
      "metadata": {
        "id": "view-in-github",
        "colab_type": "text"
      },
      "source": [
        "<a href=\"https://colab.research.google.com/github/OlesiaPoliakova/Education/blob/main/OperatorsOverload.ipynb\" target=\"_parent\"><img src=\"https://colab.research.google.com/assets/colab-badge.svg\" alt=\"Open In Colab\"/></a>"
      ]
    },
    {
      "cell_type": "markdown",
      "metadata": {
        "id": "oM1UiKIzApcA"
      },
      "source": [
        "#Math operators overloading\n",
        "In reality operators like *+*, *-*, *\\** etc are only call the appropriate methods from some object. i.e.:\n",
        "\n",
        "\n",
        "*   \\+\t\\_\\_add__(self, other)\n",
        "*   –\t\\_\\_sub__(self, other)\n",
        "*   \\*\t\\_\\_mul__(self, other)\n",
        "*   /\t\\_\\_truediv__(self, other)\n",
        "*   //\t\\_\\_floordiv__(self, other)\n",
        "*   %\t\\_\\_mod__(self, other)\n",
        "*   **\t\\_\\_pow__(self, other)\n",
        "\n",
        "More info [here](https://techvidvan.com/tutorials/operator-overloading-in-python/)\n",
        "\n"
      ]
    },
    {
      "cell_type": "code",
      "metadata": {
        "id": "jM6fj7LDATiQ"
      },
      "source": [
        "class Warrior:\n",
        "  def __init__(self, name, attack, defense, life):\n",
        "    self.name = name\n",
        "    self.attack = attack\n",
        "    self.defense = defense\n",
        "    self.life = life\n",
        "  \n",
        "  def __add__(self, other):\n",
        "    if not isinstance(other, Warrior):\n",
        "      raise TypeError(f\"We can't concatenate Warrior and {other}. Only 2 Warriors\")\n",
        "    \n",
        "    return MilitaryUnit(name = f\"Simultaneous band of {self.name}\", warriors = [self, other])\n",
        "  \n",
        "  def __mul__(self, multiplier):\n",
        "    if not isinstance(multiplier, int):\n",
        "      raise TypeError(\"We can multiply only on int\")\n",
        "    \n",
        "    return MilitaryUnit(name = f\"Multiplied band of {self.name}\", warriors = [self for _ in range(multiplier)])\n",
        "  \n",
        "  def __sub__(self, other):\n",
        "    if not isinstance(other, Warrior):\n",
        "      raise TypeError(f\"We can't do the duel between Warrior and {other}. Only between 2 Warriors\")\n",
        "    \n",
        "    while self.life != 0 and other.life != 0:\n",
        "      self.life -= other.attack - self.defense\n",
        "      if self.life <= 0:\n",
        "        break\n",
        "      other.life -= self.attack - other.defense\n",
        "      if other.life <= 0:\n",
        "        break\n",
        "    \n",
        "    winner = self if self.life > 0 else other\n",
        "    dead = self if self.life <= 0 else other\n",
        "\n",
        "    print(f\"{winner.name} killed {dead.name}\")\n",
        "\n",
        "    return winner\n",
        "\n",
        "class MilitaryUnit:\n",
        "  def __init__(self, name, warriors: [Warrior] = None):\n",
        "    self.name = name\n",
        "    self.warriors: [Warrior] = list() if not warriors else warriors\n",
        "  \n",
        "  def __add__(self, other):\n",
        "    if not isinstance(other, self.__class__):\n",
        "      raise TypeError(\"We can concatenate only two military units\")\n",
        "    \n",
        "    return self.__class__(name = self.name + other.name, warriors = self.warriors + other.warriors)\n",
        "  \n",
        "  def __mul__(self, mutiply):\n",
        "    if not isinstance(multiply, int):\n",
        "      raise TypeError(\"We can multiply units by int only\")\n",
        "    \n",
        "    return self.__class__(f\"{self.name} by {multiply}\", warriors = self.warriors * multiply)\n",
        "  \n",
        "  def __sub__(self, other):\n",
        "    if not isinstance(other, self.__class__):\n",
        "      raise TypeError(\"We can make a battle only between 2 military units.\")\n",
        "    self_len = len(self.warriors)\n",
        "    other_len = len(other.warriors)\n",
        "    if self_len > other_len:\n",
        "      for i in range(other_len):\n",
        "        winner = self.warriors[i] - other.warriors[i]\n",
        "        if winner == self.warriors[i]:\n",
        "          other.warriors[i] = None\n",
        "        else:\n",
        "          self.warriors[i] = None\n",
        "    else:\n",
        "      for i in range(self_len):\n",
        "        winner = other.warriors[i] - self.warriors[i]\n",
        "        if winner == self.warriors[i]:\n",
        "          other.warriors[i] = None\n",
        "        else:\n",
        "          self.warriors[i] = None\n",
        "    \n",
        "    self.warriors = [warrior for warrior in self.warriors if warrior]\n",
        "    other.warriors = [warrior for warrior in other.warriors if warrior]\n",
        "    \n",
        "    return self if not len(other.warriors) else other\n"
      ],
      "execution_count": null,
      "outputs": []
    },
    {
      "cell_type": "markdown",
      "metadata": {
        "id": "c8rAW51DQFCn"
      },
      "source": [
        "##Testing our code"
      ]
    },
    {
      "cell_type": "code",
      "metadata": {
        "id": "twd9dqKkQIMZ"
      },
      "source": [
        "legionary = Warrior(name=\"Legionary\", attack=10, defense=8, life=50)\n",
        "catafract_horseman = Warrior(name=\"Catafract Horseman\", attack=15, defense=4, life=30)\n",
        "\n",
        "test_legio = legionary + legionary\n",
        "test_turma = catafract_horseman + catafract_horseman\n",
        "\n",
        "winner = test_legio - test_turma\n",
        "\n",
        "print(f\"Winner: {winner.name}\")"
      ],
      "execution_count": null,
      "outputs": []
    },
    {
      "cell_type": "code",
      "metadata": {
        "id": "UIozr9y9zzNX"
      },
      "source": [
        "test_legio1 = legionary * 10\n",
        "test_turma1 = legionary * 2 + catafract_horseman * 10\n",
        "\n",
        "winner = test_turma1 - test_legio1\n",
        "\n",
        "print(f\"Winner: {winner.name}\")"
      ],
      "execution_count": null,
      "outputs": []
    }
  ]
}