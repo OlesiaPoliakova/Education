{
  "nbformat": 4,
  "nbformat_minor": 0,
  "metadata": {
    "colab": {
      "name": "Exceptions.ipynb",
      "private_outputs": true,
      "provenance": [],
      "collapsed_sections": [],
      "include_colab_link": true
    },
    "kernelspec": {
      "name": "python3",
      "display_name": "Python 3"
    }
  },
  "cells": [
    {
      "cell_type": "markdown",
      "metadata": {
        "id": "view-in-github",
        "colab_type": "text"
      },
      "source": [
        "<a href=\"https://colab.research.google.com/github/OlesiaPoliakova/Education/blob/main/Exceptions.ipynb\" target=\"_parent\"><img src=\"https://colab.research.google.com/assets/colab-badge.svg\" alt=\"Open In Colab\"/></a>"
      ]
    },
    {
      "cell_type": "markdown",
      "metadata": {
        "id": "Ej-hwU9ksIaH"
      },
      "source": [
        "# ![alt text](https://upload.wikimedia.org/wikipedia/commons/c/c3/Python-logo-notext.svg)      PYTHON BASICS"
      ]
    },
    {
      "cell_type": "markdown",
      "metadata": {
        "id": "8hpydbuSsK8F"
      },
      "source": [
        "## ![exceptiont](https://cdn3.iconfinder.com/data/icons/development-icons/128/attention_2-128.png) EXCEPTIONS"
      ]
    },
    {
      "cell_type": "markdown",
      "metadata": {
        "id": "Sx23tpF6cv64"
      },
      "source": [
        "### Simple Exceptions Examples"
      ]
    },
    {
      "cell_type": "markdown",
      "metadata": {
        "id": "z5WNYRchc5_o"
      },
      "source": [
        "**Code which generates the ValueError exception. Let's create a date with unusable year 0BC (wich doesn't exist)**"
      ]
    },
    {
      "cell_type": "code",
      "metadata": {
        "id": "FOx9_awNrygz"
      },
      "source": [
        "from datetime import date\n",
        "\n",
        "wrong_date = date(0, 12, 23)"
      ],
      "execution_count": null,
      "outputs": []
    },
    {
      "cell_type": "markdown",
      "metadata": {
        "id": "k-CmuhN1dilo"
      },
      "source": [
        "**Let's try to catch ValueError exception and give to the user some informative error message**"
      ]
    },
    {
      "cell_type": "code",
      "metadata": {
        "id": "IaJnwLyyd2xp"
      },
      "source": [
        "from datetime import date\n",
        "\n",
        "def display_date(year, month, month_day):\n",
        "  some_date = None\n",
        "  \n",
        "  try:\n",
        "    print(\"This is a try block\")\n",
        "    some_date = date(year, month, month_day)\n",
        "  except ValueError as ve:\n",
        "    print(f\"Date you've entered is not correct: year - {year}, month - {month}, month day - {month_day}\")\n",
        "    return\n",
        "  finally:\n",
        "    print(\"Final actions...\")\n",
        "  \n",
        "  print(f\"Date: {some_date}\")\n",
        "\n",
        "if __name__ == \"__main__\":\n",
        "  display_date(1648, 9, 8)\n",
        "  display_date(0, 2, 3)"
      ],
      "execution_count": null,
      "outputs": []
    },
    {
      "cell_type": "markdown",
      "metadata": {
        "id": "6PrpdZmrvWXZ"
      },
      "source": [
        "### Raise the new Exceptions"
      ]
    },
    {
      "cell_type": "code",
      "metadata": {
        "id": "LM_VlNzUyfNl"
      },
      "source": [
        "for i in range(10):\n",
        "  if i>0 and i%3 == 0:\n",
        "    raise OSError(f\"This number {i} can be devided to 3. Kernel is dying...\")\n",
        "  \n",
        "  print(i)"
      ],
      "execution_count": null,
      "outputs": []
    },
    {
      "cell_type": "markdown",
      "metadata": {
        "id": "MuUIQaQz2Qt8"
      },
      "source": [
        "### Custom Exception\n",
        "Here I'm going to present simple *Bank Account* management application. Here should be the custom *Exception classes*."
      ]
    },
    {
      "cell_type": "markdown",
      "metadata": {
        "id": "a2mMOE792vA0"
      },
      "source": [
        "**VISA Card kinds**. Implemented as an *Enum*"
      ]
    },
    {
      "cell_type": "code",
      "metadata": {
        "id": "ZMjmPsKg28SM"
      },
      "source": [
        "from enum import Enum\n",
        "\n",
        "\n",
        "class CardsKinds(Enum):\n",
        "    NO_CARD = \"No Card\"\n",
        "    NORMAL_CARD = \"Normal Card\"\n",
        "    GOLD_CARD = \"Gold Card\"\n",
        "    PLATINUM_CARD = \"Platinum Card\""
      ],
      "execution_count": null,
      "outputs": []
    },
    {
      "cell_type": "markdown",
      "metadata": {
        "id": "FGU0knOj2_Gc"
      },
      "source": [
        "**Custom Exceptions**"
      ]
    },
    {
      "cell_type": "code",
      "metadata": {
        "id": "y9unPF4v4mLH"
      },
      "source": [
        "# Raised when user will try to create the bank account with amount of money less then 0\n",
        "class IncorrectDebetError(Exception):\n",
        "    pass\n",
        "\n",
        "# Raised when user tries withdraw much money then actually is on the account debet\n",
        "class TakeMoneyUnavailabilityError(Exception):\n",
        "    pass"
      ],
      "execution_count": null,
      "outputs": []
    },
    {
      "cell_type": "markdown",
      "metadata": {
        "id": "adHvOHpI5Ctz"
      },
      "source": [
        "**Main programm logic**"
      ]
    },
    {
      "cell_type": "code",
      "metadata": {
        "id": "zVF33Eh25UVj"
      },
      "source": [
        "from random import randint\n",
        "\n",
        "class BankSupport:\n",
        "    def __init__(self, account_debet=0.0):\n",
        "        self.account_id = randint(10000, 99999)\n",
        "        self.account_debet = account_debet\n",
        "        if self.account_debet < 0.0:\n",
        "            raise IncorrectDebetError\n",
        "            (\n",
        "                f\"Bank account #{str(self.account_id)}. \\\n",
        "                Debet is under zero: {str(self.account_debet)}\"\n",
        "            )\n",
        "\n",
        "    @property\n",
        "    def card_kind(self):        \n",
        "        if self.account_debet == 0.0:\n",
        "            return CardsKinds.NO_CARD\n",
        "        elif self.account_debet > 0.0 and \\\n",
        "        self.account_debet <= 9000.0:\n",
        "            return CardsKinds.NORMAL_CARD\n",
        "        elif self.account_debet > 10000.0 and \\\n",
        "        self.account_debet <= 99999.0:\n",
        "            return CardsKinds.GOLD_CARD\n",
        "        return CardsKinds.PLATINUM_CARD\n",
        "\n",
        "    def charge_account(self, sum: float):\n",
        "        if self.account_debet < 0.0 or sum < 0.0:\n",
        "            raise IncorrectDebetError\n",
        "            (\n",
        "                f\"Bank account #{str(self.account_id)}. \\\n",
        "                Debet is under zero: {str(self.account_debet)}\"\n",
        "            )\n",
        "            \n",
        "        self.account_debet += sum\n",
        "\n",
        "    def take_founds(self, sum: float):\n",
        "        if self.account_debet < 0.0:\n",
        "            raise IncorrectDebetError\n",
        "            (\n",
        "                f\"Bank account #{str(self.account_id)}. \\\n",
        "                Debet is under zero: {str(self.account_debet)}\"\n",
        "            )\n",
        "        elif self.account_debet < sum:\n",
        "            raise TakeMoneyUnavailabilityError\n",
        "            (\n",
        "                f\"Bank account #{str(self.account_id)}. \\\n",
        "                Sum to take {str(sum)} is more than your debet: \\\n",
        "                {str(self.account_debet)}\"\n",
        "            )\n",
        "        self.account_debet -= sum"
      ],
      "execution_count": null,
      "outputs": []
    },
    {
      "cell_type": "markdown",
      "metadata": {
        "id": "MhfBKr9q50Su"
      },
      "source": [
        "**Using Our classes**<br>\n",
        "Here you can create new *Bank acccount*. Money amount less then *0* should *raise IncorrectDebetError*. Initialized **bank account** will be saved in the variable **bank_acount**"
      ]
    },
    {
      "cell_type": "code",
      "metadata": {
        "id": "cBwSlc6L6NpD",
        "cellView": "form"
      },
      "source": [
        "#@title Bank account creation application\n",
        "initial_money_amount =  -20000#@param {type:\"number\"}\n",
        "\n",
        "bank_account = None\n",
        "\n",
        "bank_account = BankSupport(initial_money_amount)\n",
        "\n",
        "print(f\"\"\"\n",
        "Created new bank account...\n",
        "Id: {bank_account.account_id}\n",
        "Initial debet: {bank_account.account_debet}\n",
        "VISA Card type: {bank_account.card_kind}\n",
        "      \"\"\")"
      ],
      "execution_count": null,
      "outputs": []
    },
    {
      "cell_type": "markdown",
      "metadata": {
        "id": "iRmh63247-nu"
      },
      "source": [
        "Here we can withdraw *money* if *bank account* is created. If you try withdraw more money then is on the *Bank Account*, system will raise *TakeMoneyUnavailabilityError exception*"
      ]
    },
    {
      "cell_type": "code",
      "metadata": {
        "id": "ashzKYeT9Au0",
        "cellView": "form"
      },
      "source": [
        "#@title Withdraw your money\n",
        "withdraw_amount = 1000 #@param {type:\"number\"}\n",
        "\n",
        "if not bank_account:\n",
        "  print(\"Bank account is not created. Please create it above\")\n",
        "else:\n",
        "  bank_account.take_founds(withdraw_amount)\n",
        "  \n",
        "  print(f\"\"\"\n",
        "  Money withdrawn: {withdraw_amount}$\n",
        "  Bank Account Id: {bank_account.account_id}\n",
        "  Debet left: {bank_account.account_debet}$\n",
        "  \"\"\")"
      ],
      "execution_count": null,
      "outputs": []
    },
    {
      "cell_type": "markdown",
      "metadata": {
        "id": "YqxBstesAZgZ"
      },
      "source": [
        "##![virtual environment](https://proft.me/static/img/python/package.png) PYTHON VIRTUAL ENVIRONMENT"
      ]
    },
    {
      "cell_type": "markdown",
      "metadata": {
        "id": "Qaiv4V8zBLZb"
      },
      "source": [
        "### Create a new virtual environment and try to do something there"
      ]
    },
    {
      "cell_type": "code",
      "metadata": {
        "id": "oJTJ0gn2BgVm"
      },
      "source": [
        "#@title Install Dependencies\n",
        "!pip install virtualenv\n",
        "!pip uninstall pandas -y\n"
      ],
      "execution_count": null,
      "outputs": []
    },
    {
      "cell_type": "markdown",
      "metadata": {
        "id": "I1LXHtywB-YD"
      },
      "source": [
        "**We will install there some package anv check if it's installed on the virtual env and on the normal Python**"
      ]
    },
    {
      "cell_type": "code",
      "metadata": {
        "id": "iNTYGD4gB5pN"
      },
      "source": [
        "!virtualenv test_env\n",
        "!echo \"=======================ACTIONS ON VIRTUAL ENVIRONMENT=======================\"\n",
        "!cd test_env && . ./bin/activate && ls && pip install pandas && python -c \"import pandas; print(pandas.__dict__)\" \n",
        "!echo \"=======================ACTIONS ON ACTUAL ENVIRONMENT=======================\"\n",
        "!python -c \"import pandas; print(pandas.__dict__)\" \n",
        "!rm -rf test_env"
      ],
      "execution_count": null,
      "outputs": []
    }
  ]
}