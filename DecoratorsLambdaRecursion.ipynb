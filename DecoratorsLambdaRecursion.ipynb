{
  "nbformat": 4,
  "nbformat_minor": 0,
  "metadata": {
    "colab": {
      "name": "DecoratorsLambdaRecursion.ipynb",
      "private_outputs": true,
      "provenance": [],
      "collapsed_sections": [],
      "include_colab_link": true
    },
    "kernelspec": {
      "name": "python3",
      "display_name": "Python 3"
    }
  },
  "cells": [
    {
      "cell_type": "markdown",
      "metadata": {
        "id": "view-in-github",
        "colab_type": "text"
      },
      "source": [
        "<a href=\"https://colab.research.google.com/github/OlesiaPoliakova/Education/blob/main/DecoratorsLambdaRecursion.ipynb\" target=\"_parent\"><img src=\"https://colab.research.google.com/assets/colab-badge.svg\" alt=\"Open In Colab\"/></a>"
      ]
    },
    {
      "cell_type": "markdown",
      "metadata": {
        "id": "SWlCG0467XuZ"
      },
      "source": [
        " # ![alt text](https://upload.wikimedia.org/wikipedia/commons/c/c3/Python-logo-notext.svg)      PYTHON BASICS"
      ]
    },
    {
      "cell_type": "markdown",
      "metadata": {
        "id": "DGRMiKRY7jdT"
      },
      "source": [
        "## ![decorator](https://lh3.googleusercontent.com/1lIylV2_n-SdmrHZ01vk45HGZkyn6Q47eD3W-4qVomp1kCmGG3tC6uvjpj_Ya1YKLpLOrF46qg=w128-h128-e365) DECORATORS"
      ]
    },
    {
      "cell_type": "markdown",
      "metadata": {
        "id": "XNfB4Bo9881S"
      },
      "source": [
        "### Simple Decorator\n",
        "Just takes a function and logs that it runs. Going closer to the *Test Logging Stuff*!\n",
        "\n",
        "**REMINDER**\n",
        "\n",
        "**args* - means function arguments. Is a *tuple*\n",
        "\n",
        "***kwargs* - means function named arguments. In other words, in the format: *param_name=value*"
      ]
    },
    {
      "cell_type": "code",
      "metadata": {
        "id": "-1H2vO2z1ZCp"
      },
      "source": [
        "import random \n",
        "\n",
        "def run_logger(func):\n",
        "  def wrapper(*args, **kwargs):\n",
        "    print(\"=====================\")\n",
        "    print(f\"Running function '{func.__name__}'\")\n",
        "    print(f\"Positional arguments: {args}\")\n",
        "    print(f\"Named parameters: {kwargs}\")\n",
        "    print(\"=====================\")\n",
        "    print(\"\")\n",
        "    \n",
        "    return func(*args, **kwargs)\n",
        "  \n",
        "  return wrapper\n",
        "\n",
        "@run_logger\n",
        "def test_two_numbers(expected, actual):\n",
        "  assert expected == actual, f\"Actual value '{actual}' is not equals expected: {expected}\"\n",
        "\n",
        "@run_logger\n",
        "def dummy_concatenator(*args, **kwargs):\n",
        "  a = \" \".join(list(map(lambda a: str(a), args)))\n",
        "  b = \" \".join(list(map(lambda a: str(a), kwargs.values())))\n",
        "  \n",
        "  return a + b\n",
        "\n",
        "if __name__ == \"__main__\":\n",
        "  import random\n",
        "  \n",
        "  a = random.randint(0, 1000)\n",
        "  b = random.randint(0, 1000)\n",
        "  \n",
        "  test_two_numbers(a, a)\n",
        "\n",
        "  print(f\"Decorated function name: {dummy_concatenator.__name__}\")\n",
        "  \n",
        "  print(f'{dummy_concatenator(2, True, \"lala\", bomb=True, emporer=\"Akbar\", zen=False)}\\n\\n')\n",
        "  \n",
        "  test_two_numbers(actual=a, expected=b)"
      ],
      "execution_count": null,
      "outputs": []
    },
    {
      "cell_type": "markdown",
      "metadata": {
        "id": "di7_SSm2TLM3"
      },
      "source": [
        "Now we make some small algebraic magic, remembering that *decoratos* deals with function as an *object* and extract the semantical sugar with this '*@* and call the function with the decorator in a simple notation. \n",
        "This shows us how decorator really works'"
      ]
    },
    {
      "cell_type": "code",
      "metadata": {
        "id": "sLowiFP0TuRP"
      },
      "source": [
        "def test_two_numbers_1(expected, actual):\n",
        "  assert expected == actual, f\"Actoal value '{actual}' is not equals expected: {expected}\"\n",
        "  \n",
        " \n",
        "run_logger(test_two_numbers_1)(a, a)"
      ],
      "execution_count": null,
      "outputs": []
    },
    {
      "cell_type": "markdown",
      "metadata": {
        "id": "8mzuUaUShqW9"
      },
      "source": [
        "## ![lambda](https://cdn1.iconfinder.com/data/icons/electricity-and-functional-elements/512/lambda-symbol-letter-greek-alphabet-128.png) LAMBDA EXPRESSIONS"
      ]
    },
    {
      "cell_type": "code",
      "metadata": {
        "id": "XFs3pss7kMOg"
      },
      "source": [
        "# Counting perimeter of the rectangle\n",
        "\n",
        "rectangle_perimeter = lambda a, b: 2 * a + 2 * b\n",
        "\n",
        "print(f\"counting perimeter of sides: a=23, b=45: {rectangle_perimeter(23, 45)}\")"
      ],
      "execution_count": null,
      "outputs": []
    },
    {
      "cell_type": "markdown",
      "metadata": {
        "id": "spU_UzU8lO5Q"
      },
      "source": [
        "## ![recursion](https://eta-lang.org/images/loop.svg) RECURSION"
      ]
    },
    {
      "cell_type": "markdown",
      "metadata": {
        "id": "lJSToKdzlfzz"
      },
      "source": [
        "Let's write *factorial* implementation as a recursion"
      ]
    },
    {
      "cell_type": "code",
      "metadata": {
        "id": "fLMj5Q8klpGZ"
      },
      "source": [
        "def factorial(n): \n",
        "    print(\"factorial has been called with n = \" + str(n)) \n",
        "    if n == 1: \n",
        "        return 1 \n",
        "    else: \n",
        "        res = n * factorial(n-1) \n",
        "        print(\n",
        "            \"intermediate result for \", \n",
        "            n, \n",
        "            \" * factorial(\" ,n-1, \"): \",\n",
        "            res\n",
        "        ) \n",
        "        \n",
        "        return res\n",
        "    \n",
        "    \n",
        "print(factorial(4))"
      ],
      "execution_count": null,
      "outputs": []
    },
    {
      "cell_type": "markdown",
      "metadata": {
        "id": "lvY3uu0BE3_i"
      },
      "source": [
        "Example of *bad recursion* (recursion loop)"
      ]
    },
    {
      "cell_type": "code",
      "metadata": {
        "id": "JF4B4MGkE-Bi"
      },
      "source": [
        "def bad_recursion():\n",
        "  bad_recursion()\n",
        "  \n",
        "bad_recursion()"
      ],
      "execution_count": null,
      "outputs": []
    }
  ]
}