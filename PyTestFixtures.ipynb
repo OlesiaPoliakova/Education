{
  "nbformat": 4,
  "nbformat_minor": 0,
  "metadata": {
    "colab": {
      "name": "PyTestFixtures.ipynb",
      "private_outputs": true,
      "provenance": [],
      "collapsed_sections": [],
      "include_colab_link": true
    },
    "kernelspec": {
      "name": "python3",
      "display_name": "Python 3"
    }
  },
  "cells": [
    {
      "cell_type": "markdown",
      "metadata": {
        "id": "view-in-github",
        "colab_type": "text"
      },
      "source": [
        "<a href=\"https://colab.research.google.com/github/OlesiaPoliakova/Education/blob/main/PyTestFixtures.ipynb\" target=\"_parent\"><img src=\"https://colab.research.google.com/assets/colab-badge.svg\" alt=\"Open In Colab\"/></a>"
      ]
    },
    {
      "cell_type": "markdown",
      "metadata": {
        "id": "NWnFCVYnZbiw"
      },
      "source": [
        "# ![alt text](https://upload.wikimedia.org/wikipedia/commons/c/c3/Python-logo-notext.svg)      PYTEST BASICS"
      ]
    },
    {
      "cell_type": "markdown",
      "metadata": {
        "id": "AAouSo_UaXLo"
      },
      "source": [
        "## ![fixture](https://images.beautifulhalo.com/images/128x128/201710/P/1507634075742.jpg) PYTEST FIXTURES"
      ]
    },
    {
      "cell_type": "code",
      "metadata": {
        "id": "EYG5961VY0B0",
        "cellView": "form"
      },
      "source": [
        "#@title Installing dependencies\n",
        "\n",
        "!pip install pytest ipython_pytest ipyext unittest2\n",
        "%load_ext ipython_pytest\n",
        "%load_ext ipyext.writeandexecute\n",
        "!rm -rf work_imports\n",
        "!mkdir work_imports\n",
        "!touch work_imports/__init__.py"
      ],
      "execution_count": null,
      "outputs": []
    },
    {
      "cell_type": "markdown",
      "metadata": {
        "id": "OVDVXAOQZz1R"
      },
      "source": [
        "## ![bank acount](https://cdn0.iconfinder.com/data/icons/banking-color/64/open-account-bank-passbook-128.png) Bank Account Management App"
      ]
    },
    {
      "cell_type": "markdown",
      "metadata": {
        "id": "Z5d8_WNoZ8i3"
      },
      "source": [
        "###Card Kinds"
      ]
    },
    {
      "cell_type": "code",
      "metadata": {
        "id": "GPCHcFOCZ1Ln"
      },
      "source": [
        "%%writeandexecute -i identifier work_imports/card_kinds.py\n",
        "from enum import Enum\n",
        "\n",
        "\n",
        "class CardsKinds(Enum):\n",
        "    NO_CARD = \"No Card\"\n",
        "    NORMAL_CARD = \"Normal Card\"\n",
        "    GOLD_CARD = \"Gold Card\"\n",
        "    PLATINUM_CARD = \"Platinum Card\""
      ],
      "execution_count": null,
      "outputs": []
    },
    {
      "cell_type": "markdown",
      "metadata": {
        "id": "nySvq3EnZ-OR"
      },
      "source": [
        "### Custom Exceptions"
      ]
    },
    {
      "cell_type": "code",
      "metadata": {
        "id": "G-nIe1gyaJQB"
      },
      "source": [
        "%%writeandexecute -i identifier work_imports/exceptions.py\n",
        "\n",
        "class IncorrectDebetError(Exception):\n",
        "    pass\n",
        "\n",
        "class TakeMoneyUnavailabilityError(Exception):\n",
        "    pass"
      ],
      "execution_count": null,
      "outputs": []
    },
    {
      "cell_type": "markdown",
      "metadata": {
        "id": "rLsNEvUDaNgJ"
      },
      "source": [
        "### Main Programm Logic"
      ]
    },
    {
      "cell_type": "code",
      "metadata": {
        "id": "mc28b_WRaQqv"
      },
      "source": [
        "%%writeandexecute -i identifier work_imports/bank_support.py\n",
        "from random import randint\n",
        "from work_imports.card_kinds import CardsKinds\n",
        "from work_imports.exceptions import *\n",
        "\n",
        "class BankSupport(object):\n",
        "    def __init__(self, account_debet=0.0):\n",
        "        self.account_id = randint(10000, 99999)\n",
        "        self.account_debet = account_debet\n",
        "\n",
        "    @property\n",
        "    def card_kind(self):\n",
        "        if self.account_debet < 0.0:\n",
        "            raise IncorrectDebetError\n",
        "            (\n",
        "                f\"Bank account #{str(self.account_id)}. \\\n",
        "                Debet is under zero: {str(self.account_debet)}\"\n",
        "            )\n",
        "        elif self.account_debet == 0.0:\n",
        "            return CardsKinds.NO_CARD\n",
        "        elif self.account_debet > 0.0 and \\\n",
        "        self.account_debet <= 9000.0:\n",
        "            return CardsKinds.NORMAL_CARD\n",
        "        elif self.account_debet > 10000.0 and \\\n",
        "        self.account_debet <= 99999.0:\n",
        "            return CardsKinds.GOLD_CARD\n",
        "        return CardsKinds.PLATINUM_CARD\n",
        "\n",
        "    def charge_account(self, sum: float):\n",
        "        if self.account_debet < 0.0:\n",
        "            raise IncorrectDebetError\n",
        "            (\n",
        "                f\"Bank account #{str(self.account_id)}. \\\n",
        "                Debet is under zero: {str(self.account_debet)}\"\n",
        "            )\n",
        "\n",
        "    def take_founds(self, sum: float):\n",
        "        if self.account_debet < 0.0:\n",
        "            raise IncorrectDebetError\n",
        "            (\n",
        "                f\"Bank account #{str(self.account_id)}. \\\n",
        "                Debet is under zero: {str(self.account_debet)}\"\n",
        "            )\n",
        "        elif self.account_debet < sum:\n",
        "            raise TakeMoneyUnavailabilityError\n",
        "            (\n",
        "                f\"Bank account #{str(self.account_id)}. \\\n",
        "                Sum to take {str(sum)} is more than your debet: \\\n",
        "                {str(self.account_debet)}\"\n",
        "            )\n",
        "        self.account_debet -= sum"
      ],
      "execution_count": null,
      "outputs": []
    },
    {
      "cell_type": "markdown",
      "metadata": {
        "id": "-PtzIpz7a9f-"
      },
      "source": [
        "### PyTest Suite with the fixtures"
      ]
    },
    {
      "cell_type": "code",
      "metadata": {
        "id": "YPUpT6HMbeZt"
      },
      "source": [
        "%%pytest\n",
        "import pytest\n",
        "from work_imports.bank_support import BankSupport\n",
        "from work_imports.card_kinds import CardsKinds\n",
        "from work_imports.exceptions import *\n",
        "\n",
        "\n",
        "@pytest.fixture\n",
        "def check_exception():\n",
        "    def checker(function, exception: Exception, *args):\n",
        "        try:\n",
        "            function(*args)\n",
        "        except exception:\n",
        "            return True\n",
        "        except Exception:\n",
        "            return False\n",
        "        return False\n",
        "    return checker\n",
        "\n",
        "@pytest.fixture\n",
        "def account_provider():\n",
        "    return BankSupport\n",
        "\n",
        "@pytest.fixture\n",
        "def card_provider():\n",
        "    return CardsKinds\n",
        "\n",
        "def test_no_card(account_provider, card_provider):\n",
        "    card_kind = account_provider(0).card_kind\n",
        "    assert card_kind == card_provider.NO_CARD, \\\n",
        "    f\"Incorrect type of card has been returned: {card_kind}. \\\n",
        "    Should be {card_provider.NO_CARD}\"\n",
        "\n",
        "def test_normal_card(account_provider, card_provider):\n",
        "    card_kind = account_provider(1).card_kind\n",
        "    assert card_kind == card_provider.NORMAL_CARD, \\\n",
        "    f\"Incorrect type of card has been returned: {card_kind}. \\\n",
        "    Should be {card_provider.NORMAL_CARD}\"\n",
        "\n",
        "def test_gold_card(account_provider, card_provider):\n",
        "    card_kind = account_provider(10001).card_kind\n",
        "    assert card_kind == card_provider.GOLD_CARD, \\\n",
        "    f\"Incorrect type of card has been returned: {card_kind}. \\\n",
        "    Should be {card_provider.GOLD_CARD}\"\n",
        "\n",
        "def test_platinum(account_provider, card_provider):\n",
        "    card_kind = account_provider(10001).card_kind\n",
        "    assert card_kind == card_provider.GOLD_CARD, \\\n",
        "    f\"Incorrect type of card has been returned: {card_kind}. \\\n",
        "    Should be {card_provider.GOLD_CARD}\"\n",
        "\n",
        "def test_negative_debet(account_provider, check_exception):\n",
        "    negative_debet = -10.0\n",
        "    assert check_exception(\n",
        "        account_provider, \n",
        "        IncorrectDebetError, \n",
        "        negative_debet), \\\n",
        "    f\"Exception IncorrectDebetError hasn't been raised \\\n",
        "    when created account \\\n",
        "    with negative debet {str(negative_debet)}\"\n",
        "\n",
        "def test_take_more_then(account_provider, check_exception):\n",
        "    assert check_exception(\n",
        "        account_provider(100).take_founds, \n",
        "        TakeMoneyUnavailabilityError, 101), \\\n",
        "    \"Exception TakeMoneyUnavailabilityError hasn't been raised \\\n",
        "    when taken funds more then money is on the debet\""
      ],
      "execution_count": null,
      "outputs": []
    },
    {
      "cell_type": "markdown",
      "metadata": {
        "id": "TyR-Ckue3dUy"
      },
      "source": [
        "### PyTest tests with scoped fixtures"
      ]
    },
    {
      "cell_type": "code",
      "metadata": {
        "id": "Vw8puey-3uAk"
      },
      "source": [
        "%%pytest\n",
        "import pytest\n",
        "from work_imports.bank_support import BankSupport\n",
        "from work_imports.card_kinds import CardsKinds\n",
        "from work_imports.exceptions import *\n",
        "\n",
        "#pytest -v --setup-show \n",
        "#--debug test/pytest/TestBankSupportWithFixtureScopeTuning.py\n",
        "\n",
        "class Config(object):\n",
        "    card_provider = None\n",
        "    account_provider = None\n",
        "\n",
        "@pytest.fixture(scope=\"function\")\n",
        "def check_exception():\n",
        "    def checker(function, exception: Exception, *args):\n",
        "        try:\n",
        "            print\n",
        "            (\n",
        "                f\"Checking for exception {exception} \\\n",
        "                for function {function.__name__}\"\n",
        "            )\n",
        "            \n",
        "            function(*args)\n",
        "            \n",
        "        except exception:\n",
        "            return True\n",
        "        \n",
        "        except Exception:\n",
        "            return False\n",
        "        \n",
        "        return False\n",
        "    \n",
        "    return checker\n",
        "\n",
        "@pytest.fixture(scope=\"session\", autouse=True)\n",
        "def account_provider():\n",
        "    print(f\"Providing Banking Account {BankSupport}\")\n",
        "    Config.account_provider = BankSupport\n",
        "\n",
        "@pytest.fixture(scope=\"module\", autouse=True)\n",
        "def card_provider():\n",
        "    print(\"Providing Card types enumeration\")\n",
        "    Config.card_provider = CardsKinds\n",
        "\n",
        "def test_no_card():\n",
        "    card_kind = Config.account_provider(0).card_kind\n",
        "    assert card_kind == Config.card_provider.NO_CARD, \\\n",
        "    f\"Incorrect type of card has been returned: {card_kind}. \\\n",
        "    Should be {Config.card_provider.NO_CARD}\"\n",
        "\n",
        "def test_normal_card():\n",
        "    card_kind = Config.account_provider(1).card_kind\n",
        "    assert card_kind == Config.card_provider.NORMAL_CARD, \\\n",
        "    f\"Incorrect type of card has been returned: {card_kind}. \\\n",
        "    Should be {Config.card_provider.NORMAL_CARD}\"\n",
        "\n",
        "def test_gold_card():\n",
        "    card_kind = Config.account_provider(10001).card_kind\n",
        "    assert card_kind == Config.card_provider.GOLD_CARD, \\\n",
        "    f\"Incorrect type of card has been returned: {card_kind}. \\\n",
        "    Should be {Config.card_provider.GOLD_CARD}\"\n",
        "\n",
        "def test_platinum():\n",
        "    card_kind = Config.account_provider(10001).card_kind\n",
        "    assert card_kind == Config.card_provider.GOLD_CARD, \\\n",
        "    f\"Incorrect type of card has been returned: {card_kind}. \\\n",
        "    Should be {Config.card_provider.GOLD_CARD}\"\n",
        "\n",
        "def test_negative_debet(check_exception):\n",
        "    negative_debet = -10.0\n",
        "    assert check_exception\n",
        "    (\n",
        "        Config.account_provider, \n",
        "        IncorrectDebetError, \n",
        "        negative_debet\n",
        "    ), \\\n",
        "    f\"Exception IncorrectDebetError hasn't been raised when \\\n",
        "    created account with negative debet {str(negative_debet)}\"\n",
        "\n",
        "def test_take_more_then(check_exception):\n",
        "    assert check_exception\n",
        "    (\n",
        "        Config.account_provider(100).take_founds, \n",
        "        TakeMoneyUnavailabilityError, 101), \\\n",
        "    f\"Exception TakeMoneyUnavailabilityError hasn't been raised \\\n",
        "    when taken funds more then money is on the debet\"\n"
      ],
      "execution_count": null,
      "outputs": []
    },
    {
      "cell_type": "markdown",
      "metadata": {
        "id": "EddKzol644Ie"
      },
      "source": [
        "### PyTest tests with teardowns"
      ]
    },
    {
      "cell_type": "code",
      "metadata": {
        "id": "4SpGkevQ5EsH"
      },
      "source": [
        "%%pytest\n",
        "import pytest\n",
        "from work_imports.bank_support import BankSupport\n",
        "from work_imports.card_kinds import CardsKinds\n",
        "from work_imports.exceptions import *\n",
        "\n",
        "#pytest -v --setup-show \n",
        "#--debug test/pytest/TestBankSupportWithFixtureScopeTuning.py\n",
        "class Config(object):\n",
        "    card_provider = None\n",
        "    account_provider = None\n",
        "    \n",
        "@pytest.fixture(scope=\"function\")\n",
        "def check_exception():\n",
        "    def checker(function, exception: Exception, *args):\n",
        "        try:\n",
        "            print\n",
        "            (\n",
        "                f\"Checking for exception {exception} \\\n",
        "                for function {function.__name__}\"\n",
        "            )\n",
        "            \n",
        "            function(*args)\n",
        "            \n",
        "        except exception:\n",
        "            return True\n",
        "        \n",
        "        except Exception:\n",
        "            return False\n",
        "        \n",
        "        return False\n",
        "    \n",
        "    return checker\n",
        "\n",
        "@pytest.fixture(scope=\"session\", autouse=True)\n",
        "def account_provider(request):\n",
        "    print(f\"Providing Banking Account {BankSupport}\")\n",
        "    Config.account_provider = BankSupport\n",
        "    \n",
        "    def teardown():\n",
        "      print(\"Deleting bank account\")\n",
        "      del Config.account_provider\n",
        "    \n",
        "    request.addfinalizer(teardown)\n",
        "\n",
        "def delete_cards():\n",
        "  print(\"Deleting card kinds\")\n",
        "  del Config.card_provider\n",
        "\n",
        "\n",
        "@pytest.fixture(scope=\"session\", autouse=True)\n",
        "def card_provider():\n",
        "    print(\"Providing Card types enumeration\")\n",
        "    Config.card_provider = CardsKinds\n",
        "    yield\n",
        "    delete_cards()\n",
        "\n",
        "def test_no_card():\n",
        "    card_kind = Config.account_provider(0).card_kind\n",
        "    assert card_kind == Config.card_provider.NO_CARD, \\\n",
        "    f\"Incorrect type of card has been returned: {card_kind}. \\\n",
        "    Should be {Config.card_provider.NO_CARD}\"\n",
        "\n",
        "def test_normal_card():\n",
        "    card_kind = Config.account_provider(1).card_kind\n",
        "    assert card_kind == Config.card_provider.NORMAL_CARD, \\\n",
        "    f\"Incorrect type of card has been returned: {card_kind}. \\\n",
        "    Should be {Config.card_provider.NORMAL_CARD}\"\n",
        "\n",
        "def test_gold_card():\n",
        "    card_kind = Config.account_provider(10001).card_kind\n",
        "    assert card_kind == Config.card_provider.GOLD_CARD, \\\n",
        "    f\"Incorrect type of card has been returned: {card_kind}. \\\n",
        "    Should be {Config.card_provider.GOLD_CARD}\"\n",
        "\n",
        "def test_platinum():\n",
        "    card_kind = Config.account_provider(10001).card_kind\n",
        "    assert card_kind == Config.card_provider.GOLD_CARD, \\\n",
        "    f\"Incorrect type of card has been returned: {card_kind}. \\\n",
        "    Should be {Config.card_provider.GOLD_CARD}\"\n",
        "\n",
        "def test_negative_debet(check_exception):\n",
        "    negative_debet = -10.0\n",
        "    assert check_exception\n",
        "    (\n",
        "        Config.account_provider, \n",
        "        IncorrectDebetError, \n",
        "        negative_debet\n",
        "    ), \\\n",
        "    f\"Exception IncorrectDebetError hasn't been raised when \\\n",
        "    created account with negative debet {str(negative_debet)}\"\n",
        "\n",
        "def test_take_more_then(check_exception):\n",
        "    assert check_exception\n",
        "    (\n",
        "        Config.account_provider(100).take_founds, \n",
        "        TakeMoneyUnavailabilityError, 101), \\\n",
        "    \"Exception TakeMoneyUnavailabilityError hasn't been raised \\\n",
        "    when taken funds more then money is on the debet\"\n"
      ],
      "execution_count": null,
      "outputs": []
    }
  ]
}