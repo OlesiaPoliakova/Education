{
  "nbformat": 4,
  "nbformat_minor": 0,
  "metadata": {
    "colab": {
      "name": "PyTestParametrization.ipynb",
      "private_outputs": true,
      "provenance": [],
      "collapsed_sections": [],
      "include_colab_link": true
    },
    "kernelspec": {
      "name": "python3",
      "display_name": "Python 3"
    }
  },
  "cells": [
    {
      "cell_type": "markdown",
      "metadata": {
        "id": "view-in-github",
        "colab_type": "text"
      },
      "source": [
        "<a href=\"https://colab.research.google.com/github/OlesiaPoliakova/Education/blob/main/PyTestParametrization.ipynb\" target=\"_parent\"><img src=\"https://colab.research.google.com/assets/colab-badge.svg\" alt=\"Open In Colab\"/></a>"
      ]
    },
    {
      "cell_type": "markdown",
      "metadata": {
        "id": "mgByPw3qnWEy"
      },
      "source": [
        "# ![alt text](https://upload.wikimedia.org/wikipedia/commons/c/c3/Python-logo-notext.svg)      PYTHON BASICS"
      ]
    },
    {
      "cell_type": "markdown",
      "metadata": {
        "id": "Tf6I5SAQnhcE"
      },
      "source": [
        "##![parametrization](https://zappysys.com/onlinehelp/ssis-powerpack/scr/images/csv-source/ssis-csv-file-source.png) PARAMETRIZED TESTS"
      ]
    },
    {
      "cell_type": "code",
      "metadata": {
        "id": "M0VTbQngzm0O",
        "cellView": "form"
      },
      "source": [
        "#@title Installeng dependencies\n",
        "\n",
        "!pip install pytest ipython_pytest ipyext unittest2\n",
        "%load_ext ipython_pytest\n",
        "%load_ext ipyext.writeandexecute\n",
        "!rm -rf work_imports\n",
        "!mkdir work_imports\n",
        "!touch work_imports/__init__.py"
      ],
      "execution_count": null,
      "outputs": []
    },
    {
      "cell_type": "markdown",
      "metadata": {
        "id": "w336tDohoweg"
      },
      "source": [
        "###![bank acount](https://cdn0.iconfinder.com/data/icons/banking-color/64/open-account-bank-passbook-128.png) Bank Account Management App"
      ]
    },
    {
      "cell_type": "code",
      "metadata": {
        "id": "QY_sMo1OkjqU"
      },
      "source": [
        "%%writeandexecute -i identifier work_imports/card_kinds.py\n",
        "from enum import Enum\n",
        "\n",
        "\n",
        "class CardsKinds(Enum):\n",
        "    NO_CARD = \"No Card\"\n",
        "    NORMAL_CARD = \"Normal Card\"\n",
        "    GOLD_CARD = \"Gold Card\"\n",
        "    PLATINUM_CARD = \"Platinum Card\""
      ],
      "execution_count": null,
      "outputs": []
    },
    {
      "cell_type": "code",
      "metadata": {
        "id": "wjQ0HPNopBE4"
      },
      "source": [
        "%%writeandexecute -i identifier work_imports/exceptions.py\n",
        "\n",
        "class IncorrectDebetError(Exception):\n",
        "    pass\n",
        "\n",
        "class TakeMoneyUnavailabilityError(Exception):\n",
        "    pass"
      ],
      "execution_count": null,
      "outputs": []
    },
    {
      "cell_type": "code",
      "metadata": {
        "id": "iV0fz-PVzSp2"
      },
      "source": [
        "%%writeandexecute -i identifier work_imports/bank_support.py\n",
        "from random import randint\n",
        "from work_imports.card_kinds import CardsKinds\n",
        "from work_imports.exceptions import *\n",
        "\n",
        "class BankSupport(object):\n",
        "    def __init__(self, account_debet=0.0):\n",
        "        self.account_id = randint(10000, 99999)\n",
        "        self.account_debet = account_debet\n",
        "\n",
        "    @property\n",
        "    def card_kind(self):\n",
        "        if self.account_debet < 0.0:\n",
        "            raise IncorrectDebetError\n",
        "            (\n",
        "                f\"Bank account #{str(self.account_id)}. \\\n",
        "                Debet is under zero: {str(self.account_debet)}\"\n",
        "            )\n",
        "        elif self.account_debet == 0.0:\n",
        "            return CardsKinds.NO_CARD\n",
        "        elif self.account_debet > 0.0 and \\\n",
        "        self.account_debet <= 9000.0:\n",
        "            return CardsKinds.NORMAL_CARD\n",
        "        elif self.account_debet > 10000.0 and \\\n",
        "        self.account_debet <= 99999.0:\n",
        "            return CardsKinds.GOLD_CARD\n",
        "        return CardsKinds.PLATINUM_CARD\n",
        "\n",
        "    def charge_account(self, sum: float):\n",
        "        if self.account_debet < 0.0:\n",
        "            raise IncorrectDebetError\n",
        "            (\n",
        "                f\"Bank account #{str(self.account_id)}. \\\n",
        "                Debet is under zero: {str(self.account_debet)}\"\n",
        "            )\n",
        "\n",
        "    def take_founds(self, sum: float):\n",
        "        if self.account_debet < 0.0:\n",
        "            raise IncorrectDebetError\n",
        "            (\n",
        "                f\"Bank account #{str(self.account_id)}. \\\n",
        "                Debet is under zero: {str(self.account_debet)}\"\n",
        "            )\n",
        "        elif self.account_debet < sum:\n",
        "            raise TakeMoneyUnavailabilityError\n",
        "            (\n",
        "                f\"Bank account #{str(self.account_id)}. \\\n",
        "                Sum to take {str(sum)} is more than your debet: \\\n",
        "                {str(self.account_debet)}\"\n",
        "            )\n",
        "        self.account_debet -= sum"
      ],
      "execution_count": null,
      "outputs": []
    },
    {
      "cell_type": "markdown",
      "metadata": {
        "id": "2hCBiUSmz52k"
      },
      "source": [
        "### Simple Parametrized Tests"
      ]
    },
    {
      "cell_type": "code",
      "metadata": {
        "id": "a46U7CdE1DCz"
      },
      "source": [
        "%%pytest\n",
        "import pytest\n",
        "from work_imports.bank_support import BankSupport\n",
        "from work_imports.card_kinds import CardsKinds\n",
        "from work_imports.exceptions import *\n",
        "\n",
        "#pytest -v --setup-show --debug \n",
        "#test/pytest/TestBankSupportWithFixtureScopeTuning.py\n",
        "\n",
        "class Config(object):\n",
        "    card_provider = None\n",
        "    account_provider = None\n",
        "\n",
        "@pytest.fixture(scope=\"function\")\n",
        "def check_exception():\n",
        "    def checker(function, exception: Exception, *args):\n",
        "        try:\n",
        "            print\n",
        "            (\n",
        "                f\"Checking for exception {exception} \\\n",
        "                for function {function.__name__}\"\n",
        "            )\n",
        "            \n",
        "            function(*args)\n",
        "            \n",
        "        except exception:\n",
        "            return True\n",
        "        \n",
        "        except Exception:\n",
        "            return False\n",
        "        \n",
        "        return False\n",
        "    \n",
        "    return checker\n",
        "\n",
        "@pytest.fixture(scope=\"session\", autouse=True)\n",
        "def account_provider():\n",
        "    print(f\"Providing Banking Account {BankSupport}\")\n",
        "    Config.account_provider = BankSupport\n",
        "\n",
        "@pytest.fixture(scope=\"module\", autouse=True)\n",
        "def card_provider():\n",
        "    print(\"Providing Card types enumeration\")\n",
        "    Config.card_provider = CardsKinds\n",
        "\n",
        "\n",
        "@pytest.mark.parametrize(\"funds, expected_card_kind\", \n",
        "                         ((0, CardsKinds.NO_CARD),\n",
        "                         (1, CardsKinds.NORMAL_CARD),\n",
        "                         (10001, CardsKinds.GOLD_CARD),\n",
        "                         (100010, CardsKinds.PLATINUM_CARD)))\n",
        "def test_card(funds: int, expected_card_kind: CardsKinds):\n",
        "    card_kind = Config.account_provider(funds).card_kind\n",
        "    assert card_kind == expected_card_kind, \\\n",
        "    f\"Incorrect type of card has been returned: {card_kind}. \\\n",
        "    Should be {expected_card_kind}\"\n",
        "\n",
        "@pytest.mark.parametrize(\"method, param, exception\", \n",
        "                         (\n",
        "                             (BankSupport, -10, \n",
        "                              IncorrectDebetError),\n",
        "                             (BankSupport(100).take_founds, \n",
        "                              101, \n",
        "                              TakeMoneyUnavailabilityError)\n",
        "                         )\n",
        "                        )\n",
        "def test_negative(\n",
        "    check_exception, \n",
        "    method, \n",
        "    param, \n",
        "    exception: Exception):\n",
        "    assert check_exception(method, exception, param), \\\n",
        "f\"Exception {exception.__name__} hasn't been raised\""
      ],
      "execution_count": null,
      "outputs": []
    },
    {
      "cell_type": "markdown",
      "metadata": {
        "id": "PX7SNEzs16SS"
      },
      "source": [
        "### Tests with generated parameters (Data Provider)"
      ]
    },
    {
      "cell_type": "code",
      "metadata": {
        "id": "3TzUs5852BKs"
      },
      "source": [
        "%%pytest\n",
        "import pytest\n",
        "import random\n",
        "from work_imports.bank_support import BankSupport\n",
        "from work_imports.card_kinds import CardsKinds\n",
        "from work_imports.exceptions import *\n",
        "\n",
        "#pytest -v --setup-show \n",
        "#--debug test/pytest/TestBankSupportWithFixtureScopeTuning.py\n",
        "\n",
        "class Config(object):\n",
        "    card_provider = None\n",
        "    account_provider = None\n",
        "\n",
        "\n",
        "class _account_card_type_data_provider(object):\n",
        "    def __init__(self):\n",
        "        self.cards = (\n",
        "            CardsKinds.NO_CARD, \n",
        "            CardsKinds.NORMAL_CARD, \n",
        "            CardsKinds.GOLD_CARD, \n",
        "            CardsKinds.PLATINUM_CARD\n",
        "        )\n",
        "        \n",
        "        print(f\"Cards: {self.cards}\")\n",
        "\n",
        "    def __call__(\n",
        "        self, \n",
        "        normal_threshold, \n",
        "        gold_threshold, \n",
        "        platinum_threshold\n",
        "    ):\n",
        "        tmp = list()\n",
        "        thresholds = (\n",
        "                      (0, 0),\n",
        "                      (1, normal_threshold),\n",
        "                      (normal_threshold + 1, gold_threshold),\n",
        "                      (gold_threshold + 1, platinum_threshold)\n",
        "                      )\n",
        "\n",
        "        for i in self.cards:\n",
        "            ind = thresholds[self.cards.index(i)]\n",
        "            for _ in range(3):\n",
        "                print(f\"{str(ind[0])}: {str(ind[1])} -> {i}\")\n",
        "                tmp.append((random.randint(ind[0], ind[1]), i))\n",
        "        return tuple(tmp)\n",
        "\n",
        "account_card_type_data_provider = _account_card_type_data_provider()\n",
        "    \n",
        "\n",
        "@pytest.fixture(scope=\"function\")\n",
        "def check_exception():\n",
        "    def checker(function, exception: Exception, *args):\n",
        "        try:\n",
        "            print\n",
        "            (\n",
        "                f\"Checking for exception {exception} for \\\n",
        "                function {function.__name__}\"\n",
        "            )\n",
        "            function(*args)\n",
        "        except exception:\n",
        "            return True\n",
        "        except Exception:\n",
        "            return False\n",
        "        return False\n",
        "    return checker\n",
        "\n",
        "@pytest.fixture(scope=\"session\", autouse=True)\n",
        "def account_provider():\n",
        "    Config.account_provider = BankSupport\n",
        "\n",
        "@pytest.fixture(scope=\"module\", autouse=True)\n",
        "def card_provider():\n",
        "    Config.card_provider = CardsKinds\n",
        "\n",
        "\n",
        "@pytest.mark.parametrize(\"funds, expected_card_kind\", \n",
        "                         account_card_type_data_provider(10000, \n",
        "                          100000, \n",
        "                          10000000)\n",
        "                        )\n",
        "def test_card(funds: int, expected_card_kind: CardsKinds):\n",
        "    card_kind = Config.account_provider(funds).card_kind\n",
        "    assert card_kind == expected_card_kind, \\\n",
        "    f\"Incorrect type of card has been returned: {card_kind}. \\\n",
        "    Should be {expected_card_kind}. Funds: {str(funds)}\"\n",
        "\n",
        "@pytest.mark.parametrize(\"method, param, exception\", (\n",
        "    (BankSupport, -10, IncorrectDebetError),\n",
        "    (\n",
        "        BankSupport(100).take_founds, \n",
        "        101, \n",
        "        TakeMoneyUnavailabilityError\n",
        "    )\n",
        ")\n",
        "                        )\n",
        "def test_negative_debet(check_exception, \n",
        "                        method, \n",
        "                        param, \n",
        "                        exception: Exception):\n",
        "    assert check_exception(method, exception, param), \\\n",
        "    f\"Exception IncorrectDebetError hasn't been raised\""
      ],
      "execution_count": null,
      "outputs": []
    },
    {
      "cell_type": "markdown",
      "metadata": {
        "id": "SFWidCrD3zDi"
      },
      "source": [
        "### Mixing PyUnit and PyTest in one suite using DataProviders"
      ]
    },
    {
      "cell_type": "code",
      "metadata": {
        "id": "35r1CW8Z4GUS"
      },
      "source": [
        "%%pytest\n",
        "import pytest\n",
        "import random\n",
        "import unittest\n",
        "from work_imports.bank_support import BankSupport\n",
        "from work_imports.card_kinds import CardsKinds\n",
        "from work_imports.exceptions import *\n",
        "\n",
        "@pytest.fixture(scope=\"function\")\n",
        "def check_exception():\n",
        "    def checker(function, exception: Exception, *args):\n",
        "        try:\n",
        "            print\n",
        "            (\n",
        "                f\"Checking for exception {exception} for \\\n",
        "                function {function.__name__}\"\n",
        "            )\n",
        "            \n",
        "            function(*args)\n",
        "            \n",
        "        except exception:\n",
        "            return True\n",
        "        \n",
        "        except Exception:\n",
        "            return False\n",
        "        \n",
        "        return False\n",
        "    \n",
        "    return checker\n",
        "\n",
        "@pytest.fixture(scope=\"class\")\n",
        "def account_provider(request):\n",
        "    class Config(object):\n",
        "        def __init__(self):\n",
        "            self.bank_account = BankSupport\n",
        "            self.cards = CardsKinds\n",
        "\n",
        "    request.cls.config = Config()\n",
        "\n",
        "@pytest.mark.usefixtures(\"account_provider\")\n",
        "class MyTestSuite(unittest.TestCase):\n",
        "\n",
        "    def test_no_card(self):\n",
        "        card_kind = self.config.bank_account(0).card_kind\n",
        "        self.assertEqual\n",
        "        (\n",
        "            card_kind, \n",
        "            self.config.cards.NO_CARD, \n",
        "            f\"Incorrect type of card has been returned: \\\n",
        "            {card_kind}. \\\n",
        "            Should be {self.config.cards.NO_CARD}\"\n",
        "        )\n",
        "\n",
        "    def test_normal_card(self):\n",
        "        card_kind = self.config.bank_account(1).card_kind\n",
        "        self.assertEqual\n",
        "        (\n",
        "            card_kind, \n",
        "            self.config.cards.NORMAL_CARD,\n",
        "            f\"Incorrect type of card has been returned: \\\n",
        "            {card_kind}. \\\n",
        "            Should be {self.config.cards.NORMAL_CARD}\"\n",
        "        )\n",
        "        \n",
        "    def test_gold_card(self):\n",
        "        card_kind = self.config.bank_account(10001).card_kind\n",
        "        self.assertEqual\n",
        "        (\n",
        "            card_kind, \n",
        "            self.config.cards.GOLD_CARD,\n",
        "            f\"Incorrect type of card has been returned: \\\n",
        "            {card_kind}. \\\n",
        "            Should be {self.config.cards.GOLD_CARD}\"\n",
        "        )\n",
        "        \n",
        "    def test_platinum(self):\n",
        "        card_kind = self.config.bank_account(100001).card_kind\n",
        "        self.assertEqual\n",
        "        (\n",
        "            card_kind, \n",
        "            self.config.cards.PLATINUM_CARD,\n",
        "            f\"Incorrect type of card has been returned: \\\n",
        "            {card_kind}. \\\n",
        "            Should be {self.config.cards.PLATINUM_CARD}\"\n",
        "        )\n",
        "        \n",
        "    def test_negative_debet(self):\n",
        "        negative_debet = -10.0\n",
        "        with self.assertRaises(IncorrectDebetError):\n",
        "            self.config.bank_account(negative_debet)\n",
        "\n",
        "    def test_take_more_then(self):\n",
        "        normal_account = self.config.bank_account(100)\n",
        "        with self.assertRaises(TakeMoneyUnavailabilityError):\n",
        "            normal_account.take_founds(1001)"
      ],
      "execution_count": null,
      "outputs": []
    },
    {
      "cell_type": "markdown",
      "metadata": {
        "id": "26r4WewyFF1A"
      },
      "source": [
        "### Data Provider which reads test data from the external file"
      ]
    },
    {
      "cell_type": "code",
      "metadata": {
        "id": "6QUOXD3bF5Dl",
        "cellView": "form"
      },
      "source": [
        "#@title Mount of the Google Drive\n",
        "from google.colab import drive\n",
        "drive.mount('/content/drive')\n",
        "!pip install pandas"
      ],
      "execution_count": null,
      "outputs": []
    },
    {
      "cell_type": "code",
      "metadata": {
        "id": "CeKbB6_YGn87"
      },
      "source": [
        "%%pytest\n",
        "import pandas\n",
        "\n",
        "from work_imports.bank_support import BankSupport\n",
        "from work_imports.card_kinds import CardsKinds\n",
        "from work_imports.exceptions import *\n",
        "\n",
        "def pytest_generate_tests(metafunc):\n",
        "  test_data = tuple(pandas.read_csv(\"/content/drive/My Drive/Colab Notebooks/a4q_selenium/PythonPart/PyTest/test_data.csv\").itertuples(index=False, name=None))\n",
        "  \n",
        "  metafunc.parametrize(\"funds, expected_card_kind\", test_data)\n",
        "\n",
        "class TestBankAccount(object):\n",
        "    def test_card(self, funds: int, \n",
        "                  expected_card_kind: CardsKinds): \n",
        "        card_kind = BankSupport(funds).card_kind\n",
        "        assert card_kind == CardsKinds(expected_card_kind), \\\n",
        "        f\"Incorrect type of card has been returned: {card_kind}. \\\n",
        "        Should be {CardsKinds(expected_card_kind)}. Funds: {str(funds)}\""
      ],
      "execution_count": null,
      "outputs": []
    }
  ]
}